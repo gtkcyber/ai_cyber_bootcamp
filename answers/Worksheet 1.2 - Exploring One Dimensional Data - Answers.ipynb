{
 "cells": [
  {
   "cell_type": "markdown",
   "metadata": {},
   "source": [
    "<img src=\"../img/GTK_Logo_Social Icon.jpg\" width=175 align=\"right\" />\n",
    "\n",
    "# Worksheet 1.2:  Exploring One Dimensional Data - Answers\n",
    "This worksheet covers concepts covered in the first half of Module 1 - Exploratory Data Analysis in One Dimension.  It should take no more than 20-30 minutes to complete.  Please raise your hand if you get stuck.  \n",
    "\n",
    "There are many ways to accomplish the tasks that you are presented with, however you will find that by using the techniques covered in class, the exercises should be relatively simple. \n",
    "\n",
    "## Import the Libraries\n",
    "For this exercise, we will be using:\n",
    "* Pandas (http://pandas.pydata.org/pandas-docs/stable/)\n",
    "* Numpy (https://docs.scipy.org/doc/numpy/reference/)\n",
    "* Matplotlib (http://matplotlib.org/api/pyplot_api.html)\n"
   ]
  },
  {
   "cell_type": "code",
   "execution_count": 3,
   "metadata": {
    "ExecuteTime": {
     "end_time": "2022-12-05T11:59:22.384400Z",
     "start_time": "2022-12-05T11:59:21.011311Z"
    }
   },
   "outputs": [],
   "source": [
    "import pandas as pd\n",
    "import numpy as np\n",
    "import matplotlib.pyplot as plt\n",
    "plt.style.use('ggplot')\n",
    "%matplotlib inline"
   ]
  },
  {
   "cell_type": "markdown",
   "metadata": {},
   "source": [
    "## Exercise 1: Summarize the Data\n",
    "For this exercise, you are given a Series of random numbers creatively names `random_numbers`.  For the first exercise please do the following:\n",
    "\n",
    "1.  Remove all the numbers less than 10\n",
    "2.  Sort the series\n",
    "3.  Calculate the Tukey 5 number summary for this dataset\n",
    "4.  Count the number of even and odd numbers\n",
    "5.  Find the five largest and 5 smallest numbers in the series"
   ]
  },
  {
   "cell_type": "code",
   "execution_count": 4,
   "metadata": {
    "ExecuteTime": {
     "end_time": "2022-12-05T11:59:27.116754Z",
     "start_time": "2022-12-05T11:59:27.110319Z"
    }
   },
   "outputs": [],
   "source": [
    "#Generate a series of random numbers between 1 and 100. \n",
    "random_numbers = pd.Series( np.random.randint(1, 100, 50) )"
   ]
  },
  {
   "cell_type": "code",
   "execution_count": 7,
   "metadata": {
    "ExecuteTime": {
     "end_time": "2022-12-05T12:01:18.765883Z",
     "start_time": "2022-12-05T12:01:18.746933Z"
    }
   },
   "outputs": [
    {
     "name": "stdout",
     "output_type": "stream",
     "text": [
      "count    44.000000\n",
      "mean     47.590909\n",
      "std      27.135593\n",
      "min      11.000000\n",
      "25%      24.500000\n",
      "50%      42.500000\n",
      "75%      68.000000\n",
      "max      99.000000\n",
      "dtype: float64\n",
      "Even numbers: 18\n",
      "Odd numbers: 26\n",
      "Smallest Numbers:\n",
      "17    11\n",
      "29    12\n",
      "7     15\n",
      "38    17\n",
      "16    19\n",
      "dtype: int64\n",
      "Largest Numbers:\n",
      "20    93\n",
      "28    94\n",
      "24    95\n",
      "45    97\n",
      "48    99\n",
      "dtype: int64\n"
     ]
    }
   ],
   "source": [
    "# Your code here... \n",
    "\n",
    "#Filter the Series\n",
    "random_numbers = random_numbers[random_numbers >= 10]\n",
    "\n",
    "#Sort the Series\n",
    "random_numbers.sort_values(inplace=True)\n",
    "\n",
    "#Calculate the Tukey 5 Number Summary\n",
    "print(random_numbers.describe())\n",
    "\n",
    "#Count the number of even and odd numbers\n",
    "even_numbers = random_numbers[random_numbers % 2 == 0].count() \n",
    "odd_numbers = random_numbers[random_numbers % 2 != 0].count() \n",
    "print( \"Even numbers: \" + str(even_numbers))\n",
    "print( \"Odd numbers: \" + str(odd_numbers))\n",
    "\n",
    "#Find the five largest and smallest numbers\n",
    "print( \"Smallest Numbers:\")\n",
    "print( random_numbers.head(5))\n",
    "\n",
    "print( \"Largest Numbers:\")\n",
    "print( random_numbers.tail(5))"
   ]
  },
  {
   "cell_type": "code",
   "execution_count": 6,
   "metadata": {
    "ExecuteTime": {
     "end_time": "2022-12-05T12:01:30.726887Z",
     "start_time": "2022-12-05T12:01:30.716945Z"
    }
   },
   "outputs": [
    {
     "data": {
      "text/plain": [
       "count    44.000000\n",
       "mean     47.590909\n",
       "std      27.135593\n",
       "min      11.000000\n",
       "25%      24.500000\n",
       "50%      42.500000\n",
       "75%      68.000000\n",
       "max      99.000000\n",
       "dtype: float64"
      ]
     },
     "execution_count": 6,
     "metadata": {},
     "output_type": "execute_result"
    }
   ],
   "source": [
    "random_numbers.describe()"
   ]
  },
  {
   "cell_type": "markdown",
   "metadata": {},
   "source": [
    "## Exercise 2: \n",
    "Using the random number Series create a histogram with 8 bins."
   ]
  },
  {
   "cell_type": "code",
   "execution_count": 8,
   "metadata": {
    "ExecuteTime": {
     "end_time": "2022-12-05T12:01:40.403810Z",
     "start_time": "2022-12-05T12:01:40.190089Z"
    }
   },
   "outputs": [
    {
     "data": {
      "text/plain": [
       "<Axes: >"
      ]
     },
     "execution_count": 8,
     "metadata": {},
     "output_type": "execute_result"
    },
    {
     "data": {
      "image/png": "[encoded data removed]",
      "text/plain": [
       "<Figure size 640x480 with 1 Axes>"
      ]
     },
     "metadata": {},
     "output_type": "display_data"
    }
   ],
   "source": [
    "random_numbers.hist(bins=10)"
   ]
  },
  {
   "cell_type": "markdown",
   "metadata": {},
   "source": [
    "## Exercise 3:\n",
    "You have been given a list of US phone numbers.  The area code is the first three digits.  Your task is to produce a summary of how many times each area code appears in the list. To do this you will need to:\n",
    "1. Extract the area code from each phone number\n",
    "2. Count the unique occurances."
   ]
  },
  {
   "cell_type": "code",
   "execution_count": 9,
   "metadata": {
    "ExecuteTime": {
     "end_time": "2022-12-05T12:02:01.805901Z",
     "start_time": "2022-12-05T12:02:01.802413Z"
    }
   },
   "outputs": [],
   "source": [
    "phone_numbers = [\n",
    "'(833) 759-6854',\n",
    "'(811) 268-9951',\n",
    "'(855) 449-4648',\n",
    "'(833) 212-2929',\n",
    "'(833) 893-7475',\n",
    "'(822) 346-3086',\n",
    "'(844) 259-9074',\n",
    "'(855) 975-8945',\n",
    "'(811) 385-8515',\n",
    "'(811) 523-5090',\n",
    "'(844) 593-5677',\n",
    "'(833) 534-5793',\n",
    "'(899) 898-3043',\n",
    "'(833) 662-7621',\n",
    "'(899) 146-8244',\n",
    "'(822) 793-4965',\n",
    "'(822) 641-7853',\n",
    "'(833) 153-7848',\n",
    "'(811) 958-2930',\n",
    "'(822) 332-3070',\n",
    "'(833) 223-1776',\n",
    "'(811) 397-1451',\n",
    "'(844) 096-0377',\n",
    "'(822) 000-0717',\n",
    "'(899) 311-1880']"
   ]
  },
  {
   "cell_type": "code",
   "execution_count": 9,
   "metadata": {
    "ExecuteTime": {
     "end_time": "2022-12-05T12:02:53.876590Z",
     "start_time": "2022-12-05T12:02:53.869439Z"
    }
   },
   "outputs": [
    {
     "name": "stderr",
     "output_type": "stream",
     "text": [
      "/var/folders/zk/d1r5pk1n5rq5cgjj_l48mbsh0000gn/T/ipykernel_13142/414258792.py:4: FutureWarning: The default value of regex will change from True to False in a future version. In addition, single character regular expressions will *not* be treated as literal strings when regex=True.\n",
      "  area_codes3 = phone_number_series.str.split(')').str[0].str.replace('(','')\n"
     ]
    }
   ],
   "source": [
    "phone_number_series = pd.Series(phone_numbers)\n",
    "area_codes = phone_number_series.str.slice(1,4)\n",
    "area_codes2 = phone_number_series.str.extract( '\\((\\d{3})\\)', expand=False)\n",
    "area_codes3 = phone_number_series.str.split(')').str[0].str.replace('(','')"
   ]
  },
  {
   "cell_type": "code",
   "execution_count": 10,
   "metadata": {
    "ExecuteTime": {
     "end_time": "2022-12-05T12:02:57.137935Z",
     "start_time": "2022-12-05T12:02:57.130705Z"
    }
   },
   "outputs": [
    {
     "data": {
      "text/plain": [
       "833    7\n",
       "811    5\n",
       "822    5\n",
       "844    3\n",
       "899    3\n",
       "855    2\n",
       "dtype: int64"
      ]
     },
     "execution_count": 10,
     "metadata": {},
     "output_type": "execute_result"
    }
   ],
   "source": [
    "area_codes.value_counts()"
   ]
  },
  {
   "cell_type": "code",
   "execution_count": 11,
   "metadata": {
    "ExecuteTime": {
     "end_time": "2022-12-05T12:02:57.788873Z",
     "start_time": "2022-12-05T12:02:57.782529Z"
    }
   },
   "outputs": [
    {
     "data": {
      "text/plain": [
       "833    7\n",
       "811    5\n",
       "822    5\n",
       "844    3\n",
       "899    3\n",
       "855    2\n",
       "dtype: int64"
      ]
     },
     "execution_count": 11,
     "metadata": {},
     "output_type": "execute_result"
    }
   ],
   "source": [
    "area_codes2.value_counts()"
   ]
  },
  {
   "cell_type": "code",
   "execution_count": 12,
   "metadata": {
    "ExecuteTime": {
     "end_time": "2022-12-05T12:02:58.669909Z",
     "start_time": "2022-12-05T12:02:58.663591Z"
    }
   },
   "outputs": [
    {
     "data": {
      "text/plain": [
       "833    7\n",
       "811    5\n",
       "822    5\n",
       "844    3\n",
       "899    3\n",
       "855    2\n",
       "dtype: int64"
      ]
     },
     "execution_count": 12,
     "metadata": {},
     "output_type": "execute_result"
    }
   ],
   "source": [
    "area_codes3.value_counts()"
   ]
  },
  {
   "cell_type": "code",
   "execution_count": 9,
   "metadata": {},
   "outputs": [
    {
     "data": {
      "text/plain": [
       "count      25\n",
       "unique      6\n",
       "top       833\n",
       "freq        7\n",
       "dtype: object"
      ]
     },
     "execution_count": 9,
     "metadata": {},
     "output_type": "execute_result"
    }
   ],
   "source": [
    "area_codes.describe()"
   ]
  },
  {
   "cell_type": "code",
   "execution_count": null,
   "metadata": {},
   "outputs": [],
   "source": []
  }
 ],
 "metadata": {
  "kernelspec": {
   "display_name": "Python 3 (ipykernel)",
   "language": "python",
   "name": "python3"
  },
  "language_info": {
   "codemirror_mode": {
    "name": "ipython",
    "version": 3
   },
   "file_extension": ".py",
   "mimetype": "text/x-python",
   "name": "python",
   "nbconvert_exporter": "python",
   "pygments_lexer": "ipython3",
   "version": "3.11.7"
  },
  "toc": {
   "base_numbering": 1,
   "nav_menu": {},
   "number_sections": false,
   "sideBar": false,
   "skip_h1_title": false,
   "title_cell": "Table of Contents",
   "title_sidebar": "Contents",
   "toc_cell": false,
   "toc_position": {},
   "toc_section_display": false,
   "toc_window_display": false
  },
  "varInspector": {
   "cols": {
    "lenName": 16,
    "lenType": 16,
    "lenVar": 40
   },
   "kernels_config": {
    "python": {
     "delete_cmd_postfix": "",
     "delete_cmd_prefix": "del ",
     "library": "var_list.py",
     "varRefreshCmd": "print(var_dic_list())"
    },
    "r": {
     "delete_cmd_postfix": ") ",
     "delete_cmd_prefix": "rm(",
     "library": "var_list.r",
     "varRefreshCmd": "cat(var_dic_list()) "
    }
   },
   "types_to_exclude": [
    "module",
    "function",
    "builtin_function_or_method",
    "instance",
    "_Feature"
   ],
   "window_display": false
  }
 },
 "nbformat": 4,
 "nbformat_minor": 4
}
