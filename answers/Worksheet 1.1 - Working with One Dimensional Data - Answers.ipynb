{
 "cells": [
  {
   "cell_type": "markdown",
   "metadata": {},
   "source": [
    "<img src=\"../img/GTK_Logo_Social Icon.jpg\" width=175 align=\"right\" />\n",
    "\n",
    "\n",
    "# Worksheet 1.1:  Working with One Dimensional Data - Answers\n",
    "This worksheet covers concepts covered in the first half of Module 1 - Exploratory Data Analysis in One Dimension.  It should take no more than 20-30 minutes to complete.  Please raise your hand if you get stuck.  \n",
    "\n",
    "There are many ways to accomplish the tasks that you are presented with, however you will find that by using the techniques covered in class, the exercises should be relatively simple. \n",
    "\n",
    "## Import the Libraries\n",
    "For this exercise, we will be using:\n",
    "* Pandas (http://pandas.pydata.org/pandas-docs/stable/)\n",
    "* Numpy (https://docs.scipy.org/doc/numpy/reference/)\n",
    "* Matplotlib (http://matplotlib.org/api/pyplot_api.html)\n"
   ]
  },
  {
   "cell_type": "code",
   "metadata": {
    "ExecuteTime": {
     "end_time": "2025-07-10T19:02:13.033961Z",
     "start_time": "2025-07-10T19:02:10.617518Z"
    }
   },
   "source": [
    "import pandas as pd\n",
    "import numpy as np\n",
    "import matplotlib.pyplot as plt\n",
    "from ipaddress import ip_address"
   ],
   "outputs": [],
   "execution_count": 1
  },
  {
   "cell_type": "markdown",
   "metadata": {},
   "source": [
    "## Exercise 1:  Splitting and Filtering a Series\n",
    "\n",
    "In this exercise, you are given a list of email addresses called `emails`.  Your goal is to find the email accounts from domains that end in `.edu`.  To accomplish this, you will need to:\n",
    "1. Filter the series to remove the emails that do not end in .edu\n",
    "2. Extract the accounts. \n",
    "\n",
    "If you get stuck, refer to the documentation for Pandas string manipulation (http://pandas.pydata.org/pandas-docs/stable/text.html) or the slides.  Note that there are various functions to accomplish this task."
   ]
  },
  {
   "cell_type": "code",
   "metadata": {
    "ExecuteTime": {
     "end_time": "2025-07-10T19:02:21.930851Z",
     "start_time": "2025-07-10T19:02:21.928693Z"
    }
   },
   "source": [
    "emails = ['alawrence0@prlog.org',\n",
    "'blynch1@businessweek.com',\n",
    "'mdixon2@cmu.edu',\n",
    "'rvasquez3@1688.com',\n",
    "'astone4@creativecommons.org',\n",
    "'mcarter5@chicagotribune.com',\n",
    "'dcole6@vinaora.com',\n",
    "'kpeterson7@topsy.com',\n",
    "'ewebb8@cnet.com',\n",
    "'jtaylor9@google.ru',\n",
    "'ecarra@buzzfeed.com',\n",
    "'jjonesb@arizona.edu',\n",
    "'jbowmanc@disqus.com',\n",
    "'eduardo_sanchezd@npr.org',\n",
    "'emooree@prweb.com',\n",
    "'abbedu@google.com',\n",
    "'eberryf@brandeis.edu',\n",
    "'sgardnerh@wikipedia.org',\n",
    "'balvarezi@delicious.com',\n",
    "'blewisj@privacy.gov.au']"
   ],
   "outputs": [],
   "execution_count": 2
  },
  {
   "cell_type": "code",
   "metadata": {
    "ExecuteTime": {
     "end_time": "2025-07-10T19:02:26.040795Z",
     "start_time": "2025-07-10T19:02:26.037950Z"
    }
   },
   "source": [
    "email_series = pd.Series(emails)\n",
    "filtered_emails = email_series[email_series.str.contains('\\.edu')]\n",
    "print( filtered_emails )"
   ],
   "outputs": [
    {
     "name": "stdout",
     "output_type": "stream",
     "text": [
      "2          mdixon2@cmu.edu\n",
      "11     jjonesb@arizona.edu\n",
      "16    eberryf@brandeis.edu\n",
      "dtype: object\n"
     ]
    }
   ],
   "execution_count": 3
  },
  {
   "cell_type": "code",
   "metadata": {
    "ExecuteTime": {
     "end_time": "2025-07-10T19:02:26.548587Z",
     "start_time": "2025-07-10T19:02:26.546265Z"
    }
   },
   "source": [
    "accounts = filtered_emails.str.split('@').str[0]\n",
    "print( accounts )"
   ],
   "outputs": [
    {
     "name": "stdout",
     "output_type": "stream",
     "text": [
      "2     mdixon2\n",
      "11    jjonesb\n",
      "16    eberryf\n",
      "dtype: object\n"
     ]
    }
   ],
   "execution_count": 4
  },
  {
   "cell_type": "code",
   "metadata": {
    "ExecuteTime": {
     "end_time": "2025-07-10T19:02:26.998803Z",
     "start_time": "2025-07-10T19:02:26.994852Z"
    }
   },
   "source": [
    "email_series[email_series.str.contains('\\.edu')].str.split('@').str[0]"
   ],
   "outputs": [
    {
     "data": {
      "text/plain": [
       "2     mdixon2\n",
       "11    jjonesb\n",
       "16    eberryf\n",
       "dtype: object"
      ]
     },
     "execution_count": 5,
     "metadata": {},
     "output_type": "execute_result"
    }
   ],
   "execution_count": 5
  },
  {
   "cell_type": "markdown",
   "metadata": {},
   "source": [
    "## Exercise 2:  Applying a Function\n",
    "\n",
    "In this exercise you are given a list of weights in pounds and a function to convert the measures into kilograms.  For this exercise, ***apply*** the conversion function to the original series and convert the measures into kilograms."
   ]
  },
  {
   "cell_type": "code",
   "metadata": {
    "ExecuteTime": {
     "end_time": "2025-07-10T19:02:28.039702Z",
     "start_time": "2025-07-10T19:02:28.037834Z"
    }
   },
   "source": [
    "poundsToKilograms = lambda x: x * 0.45359237\n",
    "weights = [31.09, 46.48, 24.0, 39.99, 19.33, 39.61, 40.91, 52.24, 30.77, 17.23, 34.87 ]"
   ],
   "outputs": [],
   "execution_count": 6
  },
  {
   "cell_type": "code",
   "metadata": {
    "ExecuteTime": {
     "end_time": "2025-07-10T19:02:28.611291Z",
     "start_time": "2025-07-10T19:02:28.608897Z"
    }
   },
   "source": [
    "pounds = pd.Series( weights )\n",
    "kilos = pounds.apply( poundsToKilograms )\n",
    "print( kilos )"
   ],
   "outputs": [
    {
     "name": "stdout",
     "output_type": "stream",
     "text": [
      "0     14.102187\n",
      "1     21.082973\n",
      "2     10.886217\n",
      "3     18.139159\n",
      "4      8.767941\n",
      "5     17.966794\n",
      "6     18.556464\n",
      "7     23.695665\n",
      "8     13.957037\n",
      "9      7.815397\n",
      "10    15.816766\n",
      "dtype: float64\n"
     ]
    }
   ],
   "execution_count": 7
  },
  {
   "cell_type": "code",
   "metadata": {
    "ExecuteTime": {
     "end_time": "2025-07-10T19:02:29.235026Z",
     "start_time": "2025-07-10T19:02:29.232021Z"
    }
   },
   "source": [
    "pounds * 0.45359237"
   ],
   "outputs": [
    {
     "data": {
      "text/plain": [
       "0     14.102187\n",
       "1     21.082973\n",
       "2     10.886217\n",
       "3     18.139159\n",
       "4      8.767941\n",
       "5     17.966794\n",
       "6     18.556464\n",
       "7     23.695665\n",
       "8     13.957037\n",
       "9      7.815397\n",
       "10    15.816766\n",
       "dtype: float64"
      ]
     },
     "execution_count": 8,
     "metadata": {},
     "output_type": "execute_result"
    }
   ],
   "execution_count": 8
  },
  {
   "cell_type": "markdown",
   "metadata": {},
   "source": [
    "## Exercise 3: Putting it all together\n",
    "You are given a Series of IP Addresses and the goal is to limit this data to private IP addresses.  Python has an `ipaddress` module which provides the capability to create, manipulate and operate on IPv4 and IPv6 addresses and networks.  Complete documentation is available here: https://docs.python.org/3/library/ipaddress.html.  \n",
    "\n",
    "Here are some examples of how you might use this module:\n",
    "\n",
    "```python\n",
    "import ipaddress\n",
    "myIP = ipaddress.ip_address( '192.168.0.1' )\n",
    "myNetwork = ipaddress.ip_network( '192.168.0.0/28' )\n",
    "\n",
    "#Check membership in network\n",
    "if myIP in myNetwork:  #This works\n",
    "    print( \"Yay!\" )\n",
    "\n",
    "#Loop through CIDR blocks\n",
    "for ip in myNetwork:\n",
    "    print( ip )\n",
    "\n",
    "192.168.0.0\n",
    "192.168.0.1\n",
    "…\n",
    "…\n",
    "192.168.0.13\n",
    "192.168.0.14\n",
    "192.168.0.15\n",
    "\n",
    "#Testing to see if an IP is private\n",
    "if myIP.is_private:\n",
    "    print( \"This IP is private\" )\n",
    "else:\n",
    "    print( \"Routable IP\" )\n",
    "\n",
    "```\n",
    "\n",
    "1.  First, write a function which takes an IP address and returns true if the IP is private, false if it is public.  HINT:  use the ```ipaddress``` module. \n",
    "2.  Next, use this to create a Series of true/false values in the same sequence as your original Series.\n",
    "3.  Finally, use this to filter out the original Series so that it contains only private IP addresses."
   ]
  },
  {
   "cell_type": "code",
   "metadata": {
    "ExecuteTime": {
     "end_time": "2025-07-10T19:02:31.921616Z",
     "start_time": "2025-07-10T19:02:31.919953Z"
    }
   },
   "source": [
    "hosts = [ '192.168.1.2', '10.10.10.2', '172.143.23.34', '34.34.35.34', '172.15.0.1', '172.17.0.1']"
   ],
   "outputs": [],
   "execution_count": 9
  },
  {
   "cell_type": "code",
   "metadata": {
    "ExecuteTime": {
     "end_time": "2025-07-10T19:02:32.613627Z",
     "start_time": "2025-07-10T19:02:32.611859Z"
    }
   },
   "source": [
    "def is_private(x: str) -> bool:\n",
    "    \"\"\"\n",
    "    Determines if a given IP address is private.\n",
    "\n",
    "    This function checks if the provided IP address belongs to a private IP\n",
    "    range as per the standards defined for IP address classification. It\n",
    "    takes a string representation of an IP address and returns a boolean\n",
    "    indicating if the IP address is private.\n",
    "\n",
    "    :param x: A string representing the IP address to be evaluated.\n",
    "    :return: A boolean value indicating whether the IP address is private.\n",
    "    \"\"\"\n",
    "    return ip_address(x).is_private"
   ],
   "outputs": [],
   "execution_count": 10
  },
  {
   "cell_type": "code",
   "metadata": {
    "ExecuteTime": {
     "end_time": "2025-07-10T19:02:33.211668Z",
     "start_time": "2025-07-10T19:02:33.209543Z"
    }
   },
   "source": [
    "is_private('192.168.0.1')"
   ],
   "outputs": [
    {
     "data": {
      "text/plain": [
       "True"
      ]
     },
     "execution_count": 11,
     "metadata": {},
     "output_type": "execute_result"
    }
   ],
   "execution_count": 11
  },
  {
   "cell_type": "code",
   "metadata": {
    "ExecuteTime": {
     "end_time": "2025-07-10T19:02:33.867159Z",
     "start_time": "2025-07-10T19:02:33.864884Z"
    }
   },
   "source": [
    "IPData = pd.Series( hosts )\n",
    "privateIPs = IPData[IPData.apply( lambda x : ip_address(x).is_private ) ]\n",
    "print( privateIPs )"
   ],
   "outputs": [
    {
     "name": "stdout",
     "output_type": "stream",
     "text": [
      "0    192.168.1.2\n",
      "1     10.10.10.2\n",
      "5     172.17.0.1\n",
      "dtype: object\n"
     ]
    }
   ],
   "execution_count": 12
  },
  {
   "cell_type": "code",
   "metadata": {
    "ExecuteTime": {
     "end_time": "2025-07-10T19:02:34.386435Z",
     "start_time": "2025-07-10T19:02:34.383237Z"
    }
   },
   "source": [
    "IPData[IPData.apply(is_private)]"
   ],
   "outputs": [
    {
     "data": {
      "text/plain": [
       "0    192.168.1.2\n",
       "1     10.10.10.2\n",
       "5     172.17.0.1\n",
       "dtype: object"
      ]
     },
     "execution_count": 13,
     "metadata": {},
     "output_type": "execute_result"
    }
   ],
   "execution_count": 13
  },
  {
   "cell_type": "code",
   "metadata": {
    "ExecuteTime": {
     "end_time": "2025-07-10T19:02:35.084581Z",
     "start_time": "2025-07-10T19:02:35.083199Z"
    }
   },
   "source": [],
   "outputs": [],
   "execution_count": null
  }
 ],
 "metadata": {
  "kernelspec": {
   "display_name": "Python [conda env:base] *",
   "language": "python",
   "name": "conda-base-py"
  },
  "language_info": {
   "codemirror_mode": {
    "name": "ipython",
    "version": 3
   },
   "file_extension": ".py",
   "mimetype": "text/x-python",
   "name": "python",
   "nbconvert_exporter": "python",
   "pygments_lexer": "ipython3",
   "version": "3.11.7"
  },
  "toc": {
   "base_numbering": 1,
   "nav_menu": {},
   "number_sections": false,
   "sideBar": false,
   "skip_h1_title": false,
   "title_cell": "Table of Contents",
   "title_sidebar": "Contents",
   "toc_cell": false,
   "toc_position": {},
   "toc_section_display": false,
   "toc_window_display": false
  },
  "varInspector": {
   "cols": {
    "lenName": 16,
    "lenType": 16,
    "lenVar": 40
   },
   "kernels_config": {
    "python": {
     "delete_cmd_postfix": "",
     "delete_cmd_prefix": "del ",
     "library": "var_list.py",
     "varRefreshCmd": "print(var_dic_list())"
    },
    "r": {
     "delete_cmd_postfix": ") ",
     "delete_cmd_prefix": "rm(",
     "library": "var_list.r",
     "varRefreshCmd": "cat(var_dic_list()) "
    }
   },
   "types_to_exclude": [
    "module",
    "function",
    "builtin_function_or_method",
    "instance",
    "_Feature"
   ],
   "window_display": false
  }
 },
 "nbformat": 4,
 "nbformat_minor": 4
}
