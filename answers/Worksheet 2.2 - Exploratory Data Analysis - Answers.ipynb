{
 "cells": [
  {
   "cell_type": "code",
   "metadata": {
    "ExecuteTime": {
     "end_time": "2025-07-11T14:59:47.838343Z",
     "start_time": "2025-07-11T14:59:47.834802Z"
    }
   },
   "source": [
    "import pandas as pd\n",
    "import matplotlib\n",
    "%matplotlib inline\n",
    "matplotlib.pyplot.style.use = 'ggplot'"
   ],
   "outputs": [],
   "execution_count": 4
  },
  {
   "cell_type": "markdown",
   "metadata": {},
   "source": [
    "<img src=\"../img/GTK_Logo_Social Icon.jpg\" width=175 align=\"right\" />\n",
    "\n",
    "# Worksheet 2.2 - Exploratory Data Analysis (EDA) - Answers\n",
    "\n",
    "\n",
    "First you're going to want to create a data frame from the `dailybots.csv` file which can be found in the `data` directory.  You should be able to do this with the `pd.read_csv()` function.  Take a minute to look at the dataframe because we are going to be using it for this entire worksheet.\n",
    "\n",
    "### Data Location:\n",
    "The data location is set by default to the `data/` folder in the repo root directory.  If you have it elsewhere, you will have to modify the `DATA_HOME` variable."
   ]
  },
  {
   "cell_type": "code",
   "metadata": {
    "ExecuteTime": {
     "end_time": "2025-07-11T15:02:45.381994Z",
     "start_time": "2025-07-11T15:02:45.359665Z"
    }
   },
   "source": [
    "DATA_HOME = '../data/'\n",
    "data = pd.read_csv( DATA_HOME + 'dailybots.csv' )\n",
    "#Look at a summary of the data\n",
    "data.describe()"
   ],
   "outputs": [
    {
     "data": {
      "text/plain": [
       "             hosts        orgs\n",
       "count  4969.000000  4969.00000\n",
       "mean    142.308110    15.31133\n",
       "std     240.955294    21.15150\n",
       "min       1.000000     1.00000\n",
       "25%      10.000000     3.00000\n",
       "50%      38.000000     7.00000\n",
       "75%     187.000000    16.00000\n",
       "max    2031.000000   122.00000"
      ],
      "text/html": [
       "<div>\n",
       "<style scoped>\n",
       "    .dataframe tbody tr th:only-of-type {\n",
       "        vertical-align: middle;\n",
       "    }\n",
       "\n",
       "    .dataframe tbody tr th {\n",
       "        vertical-align: top;\n",
       "    }\n",
       "\n",
       "    .dataframe thead th {\n",
       "        text-align: right;\n",
       "    }\n",
       "</style>\n",
       "<table border=\"1\" class=\"dataframe\">\n",
       "  <thead>\n",
       "    <tr style=\"text-align: right;\">\n",
       "      <th></th>\n",
       "      <th>hosts</th>\n",
       "      <th>orgs</th>\n",
       "    </tr>\n",
       "  </thead>\n",
       "  <tbody>\n",
       "    <tr>\n",
       "      <th>count</th>\n",
       "      <td>4969.000000</td>\n",
       "      <td>4969.00000</td>\n",
       "    </tr>\n",
       "    <tr>\n",
       "      <th>mean</th>\n",
       "      <td>142.308110</td>\n",
       "      <td>15.31133</td>\n",
       "    </tr>\n",
       "    <tr>\n",
       "      <th>std</th>\n",
       "      <td>240.955294</td>\n",
       "      <td>21.15150</td>\n",
       "    </tr>\n",
       "    <tr>\n",
       "      <th>min</th>\n",
       "      <td>1.000000</td>\n",
       "      <td>1.00000</td>\n",
       "    </tr>\n",
       "    <tr>\n",
       "      <th>25%</th>\n",
       "      <td>10.000000</td>\n",
       "      <td>3.00000</td>\n",
       "    </tr>\n",
       "    <tr>\n",
       "      <th>50%</th>\n",
       "      <td>38.000000</td>\n",
       "      <td>7.00000</td>\n",
       "    </tr>\n",
       "    <tr>\n",
       "      <th>75%</th>\n",
       "      <td>187.000000</td>\n",
       "      <td>16.00000</td>\n",
       "    </tr>\n",
       "    <tr>\n",
       "      <th>max</th>\n",
       "      <td>2031.000000</td>\n",
       "      <td>122.00000</td>\n",
       "    </tr>\n",
       "  </tbody>\n",
       "</table>\n",
       "</div>"
      ]
     },
     "execution_count": 5,
     "metadata": {},
     "output_type": "execute_result"
    }
   ],
   "execution_count": 5
  },
  {
   "cell_type": "code",
   "metadata": {
    "ExecuteTime": {
     "end_time": "2025-07-11T15:02:46.306150Z",
     "start_time": "2025-07-11T15:02:46.301289Z"
    }
   },
   "source": [
    "data['botfam'].value_counts()"
   ],
   "outputs": [
    {
     "data": {
      "text/plain": [
       "botfam\n",
       "ConfickerAB    540\n",
       "Ramnit         540\n",
       "Sality         540\n",
       "Zeus           540\n",
       "zeroaccess     538\n",
       "Bedep          535\n",
       "Necurs         511\n",
       "Zusy           498\n",
       "PushDo         418\n",
       "Olmasco        309\n",
       "Name: count, dtype: int64"
      ]
     },
     "execution_count": 6,
     "metadata": {},
     "output_type": "execute_result"
    }
   ],
   "execution_count": 6
  },
  {
   "cell_type": "markdown",
   "metadata": {},
   "source": [
    "## Exercise 1: Which industry sees the most Ramnit infections? Least?\n",
    "\n",
    "Count the number of infected days for \"Ramnit\" in each industry industry. \n",
    "How: \n",
    "1.  First filter the data to remove all the infections we don't care about\n",
    "2.  Aggregate the data on the column of interest. HINT:  You might want to use the `groupby()` function\n",
    "3.  Add up the results "
   ]
  },
  {
   "cell_type": "code",
   "metadata": {
    "scrolled": true,
    "ExecuteTime": {
     "end_time": "2025-07-11T15:02:47.786580Z",
     "start_time": "2025-07-11T15:02:47.777372Z"
    }
   },
   "source": [
    "grouped_df = data[['industry', 'hosts', 'orgs']][data['botfam'] == \"Ramnit\"].groupby(['industry'], as_index=False)\n",
    "grouped_df.sum()"
   ],
   "outputs": [
    {
     "data": {
      "text/plain": [
       "              industry  hosts  orgs\n",
       "0            Education   7492  3949\n",
       "1              Finance   2281  1357\n",
       "2  Government/Politics   4484   448\n",
       "3  Healthcare/Wellness    544   473\n",
       "4        Manufacturing  46303  1155\n",
       "5               Retail  17649   558"
      ],
      "text/html": [
       "<div>\n",
       "<style scoped>\n",
       "    .dataframe tbody tr th:only-of-type {\n",
       "        vertical-align: middle;\n",
       "    }\n",
       "\n",
       "    .dataframe tbody tr th {\n",
       "        vertical-align: top;\n",
       "    }\n",
       "\n",
       "    .dataframe thead th {\n",
       "        text-align: right;\n",
       "    }\n",
       "</style>\n",
       "<table border=\"1\" class=\"dataframe\">\n",
       "  <thead>\n",
       "    <tr style=\"text-align: right;\">\n",
       "      <th></th>\n",
       "      <th>industry</th>\n",
       "      <th>hosts</th>\n",
       "      <th>orgs</th>\n",
       "    </tr>\n",
       "  </thead>\n",
       "  <tbody>\n",
       "    <tr>\n",
       "      <th>0</th>\n",
       "      <td>Education</td>\n",
       "      <td>7492</td>\n",
       "      <td>3949</td>\n",
       "    </tr>\n",
       "    <tr>\n",
       "      <th>1</th>\n",
       "      <td>Finance</td>\n",
       "      <td>2281</td>\n",
       "      <td>1357</td>\n",
       "    </tr>\n",
       "    <tr>\n",
       "      <th>2</th>\n",
       "      <td>Government/Politics</td>\n",
       "      <td>4484</td>\n",
       "      <td>448</td>\n",
       "    </tr>\n",
       "    <tr>\n",
       "      <th>3</th>\n",
       "      <td>Healthcare/Wellness</td>\n",
       "      <td>544</td>\n",
       "      <td>473</td>\n",
       "    </tr>\n",
       "    <tr>\n",
       "      <th>4</th>\n",
       "      <td>Manufacturing</td>\n",
       "      <td>46303</td>\n",
       "      <td>1155</td>\n",
       "    </tr>\n",
       "    <tr>\n",
       "      <th>5</th>\n",
       "      <td>Retail</td>\n",
       "      <td>17649</td>\n",
       "      <td>558</td>\n",
       "    </tr>\n",
       "  </tbody>\n",
       "</table>\n",
       "</div>"
      ]
     },
     "execution_count": 7,
     "metadata": {},
     "output_type": "execute_result"
    }
   ],
   "execution_count": 7
  },
  {
   "cell_type": "markdown",
   "metadata": {},
   "source": [
    "# Exercise 2: Calculate the min, max, median and mean infected orgs for each bot family, sort by median\n",
    "In this exercise, you are asked to calculate the min, max, median and mean of infected orgs for each bot family sorted by median.  HINT:\n",
    "1.  Using the `groupby()` function, create a grouped data frame\n",
    "2.  You can do this one metric at a time OR you can use the .agg() function. You might want to refer to the documentation here:  http://pandas.pydata.org/pandas-docs/stable/groupby.html#applying-multiple-functions-at-once\n",
    "3.  Sort the values (HINT HINT) by the median column"
   ]
  },
  {
   "cell_type": "code",
   "metadata": {
    "ExecuteTime": {
     "end_time": "2025-07-11T15:02:50.364454Z",
     "start_time": "2025-07-11T15:02:50.353527Z"
    }
   },
   "source": [
    "group2 = data[['botfam','orgs']].groupby( ['botfam'], as_index=False)\n",
    "summary = group2.agg([\"min\", \"max\", \"mean\", \"median\", \"std\"])\n",
    "summary.sort_values( [('orgs', 'median')], ascending=False)"
   ],
   "outputs": [
    {
     "data": {
      "text/plain": [
       "        botfam orgs                                  \n",
       "                min  max       mean median        std\n",
       "1  ConfickerAB   27  122  63.035185   56.5  25.619679\n",
       "6       Sality    2   43  15.909259   12.0   9.961946\n",
       "2       Necurs    1  115  16.739726   11.0  16.644046\n",
       "5       Ramnit    1   60  14.703704    9.0  14.485780\n",
       "7         Zeus    1   36   9.988889    8.0   6.687004\n",
       "0        Bedep    1   42   8.016822    6.0   6.192125\n",
       "9   zeroaccess    1   19   5.481413    5.0   2.999787\n",
       "8         Zusy    1   20   5.279116    4.0   4.204578\n",
       "4       PushDo    1   12   2.882775    2.0   2.535719\n",
       "3      Olmasco    1    6   1.592233    1.0   0.722148"
      ],
      "text/html": [
       "<div>\n",
       "<style scoped>\n",
       "    .dataframe tbody tr th:only-of-type {\n",
       "        vertical-align: middle;\n",
       "    }\n",
       "\n",
       "    .dataframe tbody tr th {\n",
       "        vertical-align: top;\n",
       "    }\n",
       "\n",
       "    .dataframe thead tr th {\n",
       "        text-align: left;\n",
       "    }\n",
       "</style>\n",
       "<table border=\"1\" class=\"dataframe\">\n",
       "  <thead>\n",
       "    <tr>\n",
       "      <th></th>\n",
       "      <th>botfam</th>\n",
       "      <th colspan=\"5\" halign=\"left\">orgs</th>\n",
       "    </tr>\n",
       "    <tr>\n",
       "      <th></th>\n",
       "      <th></th>\n",
       "      <th>min</th>\n",
       "      <th>max</th>\n",
       "      <th>mean</th>\n",
       "      <th>median</th>\n",
       "      <th>std</th>\n",
       "    </tr>\n",
       "  </thead>\n",
       "  <tbody>\n",
       "    <tr>\n",
       "      <th>1</th>\n",
       "      <td>ConfickerAB</td>\n",
       "      <td>27</td>\n",
       "      <td>122</td>\n",
       "      <td>63.035185</td>\n",
       "      <td>56.5</td>\n",
       "      <td>25.619679</td>\n",
       "    </tr>\n",
       "    <tr>\n",
       "      <th>6</th>\n",
       "      <td>Sality</td>\n",
       "      <td>2</td>\n",
       "      <td>43</td>\n",
       "      <td>15.909259</td>\n",
       "      <td>12.0</td>\n",
       "      <td>9.961946</td>\n",
       "    </tr>\n",
       "    <tr>\n",
       "      <th>2</th>\n",
       "      <td>Necurs</td>\n",
       "      <td>1</td>\n",
       "      <td>115</td>\n",
       "      <td>16.739726</td>\n",
       "      <td>11.0</td>\n",
       "      <td>16.644046</td>\n",
       "    </tr>\n",
       "    <tr>\n",
       "      <th>5</th>\n",
       "      <td>Ramnit</td>\n",
       "      <td>1</td>\n",
       "      <td>60</td>\n",
       "      <td>14.703704</td>\n",
       "      <td>9.0</td>\n",
       "      <td>14.485780</td>\n",
       "    </tr>\n",
       "    <tr>\n",
       "      <th>7</th>\n",
       "      <td>Zeus</td>\n",
       "      <td>1</td>\n",
       "      <td>36</td>\n",
       "      <td>9.988889</td>\n",
       "      <td>8.0</td>\n",
       "      <td>6.687004</td>\n",
       "    </tr>\n",
       "    <tr>\n",
       "      <th>0</th>\n",
       "      <td>Bedep</td>\n",
       "      <td>1</td>\n",
       "      <td>42</td>\n",
       "      <td>8.016822</td>\n",
       "      <td>6.0</td>\n",
       "      <td>6.192125</td>\n",
       "    </tr>\n",
       "    <tr>\n",
       "      <th>9</th>\n",
       "      <td>zeroaccess</td>\n",
       "      <td>1</td>\n",
       "      <td>19</td>\n",
       "      <td>5.481413</td>\n",
       "      <td>5.0</td>\n",
       "      <td>2.999787</td>\n",
       "    </tr>\n",
       "    <tr>\n",
       "      <th>8</th>\n",
       "      <td>Zusy</td>\n",
       "      <td>1</td>\n",
       "      <td>20</td>\n",
       "      <td>5.279116</td>\n",
       "      <td>4.0</td>\n",
       "      <td>4.204578</td>\n",
       "    </tr>\n",
       "    <tr>\n",
       "      <th>4</th>\n",
       "      <td>PushDo</td>\n",
       "      <td>1</td>\n",
       "      <td>12</td>\n",
       "      <td>2.882775</td>\n",
       "      <td>2.0</td>\n",
       "      <td>2.535719</td>\n",
       "    </tr>\n",
       "    <tr>\n",
       "      <th>3</th>\n",
       "      <td>Olmasco</td>\n",
       "      <td>1</td>\n",
       "      <td>6</td>\n",
       "      <td>1.592233</td>\n",
       "      <td>1.0</td>\n",
       "      <td>0.722148</td>\n",
       "    </tr>\n",
       "  </tbody>\n",
       "</table>\n",
       "</div>"
      ]
     },
     "execution_count": 8,
     "metadata": {},
     "output_type": "execute_result"
    }
   ],
   "execution_count": 8
  },
  {
   "cell_type": "markdown",
   "metadata": {},
   "source": [
    "# Exercise 3: Which date had the total most bot infections and how many infections on that day?\n",
    "In this exercise you are asked to aggregate and sum the number of infections (hosts) by date.  Once you've done that, the next step is to sort in descending order. \n"
   ]
  },
  {
   "cell_type": "code",
   "metadata": {
    "ExecuteTime": {
     "end_time": "2025-07-11T15:02:52.206837Z",
     "start_time": "2025-07-11T15:02:52.199339Z"
    }
   },
   "source": [
    "df3 = data[['date','hosts']].groupby('date').sum()\n",
    "df3.sort_values(by='hosts', ascending=False).head(10)"
   ],
   "outputs": [
    {
     "data": {
      "text/plain": [
       "            hosts\n",
       "date             \n",
       "2016-06-02  11352\n",
       "2016-06-08  10716\n",
       "2016-06-09  10476\n",
       "2016-06-07  10383\n",
       "2016-06-03  10336\n",
       "2016-06-06  10125\n",
       "2016-06-10  10106\n",
       "2016-06-14   9820\n",
       "2016-06-15   9738\n",
       "2016-06-20   9461"
      ],
      "text/html": [
       "<div>\n",
       "<style scoped>\n",
       "    .dataframe tbody tr th:only-of-type {\n",
       "        vertical-align: middle;\n",
       "    }\n",
       "\n",
       "    .dataframe tbody tr th {\n",
       "        vertical-align: top;\n",
       "    }\n",
       "\n",
       "    .dataframe thead th {\n",
       "        text-align: right;\n",
       "    }\n",
       "</style>\n",
       "<table border=\"1\" class=\"dataframe\">\n",
       "  <thead>\n",
       "    <tr style=\"text-align: right;\">\n",
       "      <th></th>\n",
       "      <th>hosts</th>\n",
       "    </tr>\n",
       "    <tr>\n",
       "      <th>date</th>\n",
       "      <th></th>\n",
       "    </tr>\n",
       "  </thead>\n",
       "  <tbody>\n",
       "    <tr>\n",
       "      <th>2016-06-02</th>\n",
       "      <td>11352</td>\n",
       "    </tr>\n",
       "    <tr>\n",
       "      <th>2016-06-08</th>\n",
       "      <td>10716</td>\n",
       "    </tr>\n",
       "    <tr>\n",
       "      <th>2016-06-09</th>\n",
       "      <td>10476</td>\n",
       "    </tr>\n",
       "    <tr>\n",
       "      <th>2016-06-07</th>\n",
       "      <td>10383</td>\n",
       "    </tr>\n",
       "    <tr>\n",
       "      <th>2016-06-03</th>\n",
       "      <td>10336</td>\n",
       "    </tr>\n",
       "    <tr>\n",
       "      <th>2016-06-06</th>\n",
       "      <td>10125</td>\n",
       "    </tr>\n",
       "    <tr>\n",
       "      <th>2016-06-10</th>\n",
       "      <td>10106</td>\n",
       "    </tr>\n",
       "    <tr>\n",
       "      <th>2016-06-14</th>\n",
       "      <td>9820</td>\n",
       "    </tr>\n",
       "    <tr>\n",
       "      <th>2016-06-15</th>\n",
       "      <td>9738</td>\n",
       "    </tr>\n",
       "    <tr>\n",
       "      <th>2016-06-20</th>\n",
       "      <td>9461</td>\n",
       "    </tr>\n",
       "  </tbody>\n",
       "</table>\n",
       "</div>"
      ]
     },
     "execution_count": 9,
     "metadata": {},
     "output_type": "execute_result"
    }
   ],
   "execution_count": 9
  },
  {
   "cell_type": "code",
   "metadata": {
    "ExecuteTime": {
     "end_time": "2025-07-11T15:02:52.967762Z",
     "start_time": "2025-07-11T15:02:52.961306Z"
    }
   },
   "source": [
    "data[['date','hosts']].groupby('date').sum().sort_values(by='hosts', ascending=False).head(10)"
   ],
   "outputs": [
    {
     "data": {
      "text/plain": [
       "            hosts\n",
       "date             \n",
       "2016-06-02  11352\n",
       "2016-06-08  10716\n",
       "2016-06-09  10476\n",
       "2016-06-07  10383\n",
       "2016-06-03  10336\n",
       "2016-06-06  10125\n",
       "2016-06-10  10106\n",
       "2016-06-14   9820\n",
       "2016-06-15   9738\n",
       "2016-06-20   9461"
      ],
      "text/html": [
       "<div>\n",
       "<style scoped>\n",
       "    .dataframe tbody tr th:only-of-type {\n",
       "        vertical-align: middle;\n",
       "    }\n",
       "\n",
       "    .dataframe tbody tr th {\n",
       "        vertical-align: top;\n",
       "    }\n",
       "\n",
       "    .dataframe thead th {\n",
       "        text-align: right;\n",
       "    }\n",
       "</style>\n",
       "<table border=\"1\" class=\"dataframe\">\n",
       "  <thead>\n",
       "    <tr style=\"text-align: right;\">\n",
       "      <th></th>\n",
       "      <th>hosts</th>\n",
       "    </tr>\n",
       "    <tr>\n",
       "      <th>date</th>\n",
       "      <th></th>\n",
       "    </tr>\n",
       "  </thead>\n",
       "  <tbody>\n",
       "    <tr>\n",
       "      <th>2016-06-02</th>\n",
       "      <td>11352</td>\n",
       "    </tr>\n",
       "    <tr>\n",
       "      <th>2016-06-08</th>\n",
       "      <td>10716</td>\n",
       "    </tr>\n",
       "    <tr>\n",
       "      <th>2016-06-09</th>\n",
       "      <td>10476</td>\n",
       "    </tr>\n",
       "    <tr>\n",
       "      <th>2016-06-07</th>\n",
       "      <td>10383</td>\n",
       "    </tr>\n",
       "    <tr>\n",
       "      <th>2016-06-03</th>\n",
       "      <td>10336</td>\n",
       "    </tr>\n",
       "    <tr>\n",
       "      <th>2016-06-06</th>\n",
       "      <td>10125</td>\n",
       "    </tr>\n",
       "    <tr>\n",
       "      <th>2016-06-10</th>\n",
       "      <td>10106</td>\n",
       "    </tr>\n",
       "    <tr>\n",
       "      <th>2016-06-14</th>\n",
       "      <td>9820</td>\n",
       "    </tr>\n",
       "    <tr>\n",
       "      <th>2016-06-15</th>\n",
       "      <td>9738</td>\n",
       "    </tr>\n",
       "    <tr>\n",
       "      <th>2016-06-20</th>\n",
       "      <td>9461</td>\n",
       "    </tr>\n",
       "  </tbody>\n",
       "</table>\n",
       "</div>"
      ]
     },
     "execution_count": 10,
     "metadata": {},
     "output_type": "execute_result"
    }
   ],
   "execution_count": 10
  }
 ],
 "metadata": {
  "anaconda-cloud": {},
  "kernelspec": {
   "display_name": "Python [conda env:base] *",
   "language": "python",
   "name": "conda-base-py"
  },
  "language_info": {
   "codemirror_mode": {
    "name": "ipython",
    "version": 3
   },
   "file_extension": ".py",
   "mimetype": "text/x-python",
   "name": "python",
   "nbconvert_exporter": "python",
   "pygments_lexer": "ipython3",
   "version": "3.11.7"
  },
  "varInspector": {
   "cols": {
    "lenName": 16,
    "lenType": 16,
    "lenVar": 40
   },
   "kernels_config": {
    "python": {
     "delete_cmd_postfix": "",
     "delete_cmd_prefix": "del ",
     "library": "var_list.py",
     "varRefreshCmd": "print(var_dic_list())"
    },
    "r": {
     "delete_cmd_postfix": ") ",
     "delete_cmd_prefix": "rm(",
     "library": "var_list.r",
     "varRefreshCmd": "cat(var_dic_list()) "
    }
   },
   "types_to_exclude": [
    "module",
    "function",
    "builtin_function_or_method",
    "instance",
    "_Feature"
   ],
   "window_display": false
  }
 },
 "nbformat": 4,
 "nbformat_minor": 4
}
