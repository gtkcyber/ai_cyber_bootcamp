{
 "cells": [
  {
   "cell_type": "markdown",
   "metadata": {},
   "source": [
    "<img src=\"../img/GTK_Logo_Social Icon.jpg\" width=175 align=\"right\" />\n",
    "\n",
    "\n",
    "# Worksheet 6.0 Clustering - Answers\n",
    "\n",
    "This worksheet covers concepts relating to Unsupervised Learning.  It should take no more than 20-30 minutes to complete.  Please raise your hand if you get stuck.  \n",
    "\n",
    "There are many ways to accomplish the tasks that you are presented with, however you will find that by using the techniques covered in class, the exercises should be relatively simple. "
   ]
  },
  {
   "cell_type": "code",
   "execution_count": 26,
   "metadata": {},
   "outputs": [
    {
     "name": "stdout",
     "output_type": "stream",
     "text": [
      "Collecting yellowbrick\n",
      "  Downloading yellowbrick-1.5-py3-none-any.whl.metadata (7.7 kB)\n",
      "Requirement already satisfied: matplotlib!=3.0.0,>=2.0.2 in /opt/miniconda3/envs/gtk-blackhat/lib/python3.11/site-packages (from yellowbrick) (3.10.0)\n",
      "Requirement already satisfied: scipy>=1.0.0 in /opt/miniconda3/envs/gtk-blackhat/lib/python3.11/site-packages (from yellowbrick) (1.11.4)\n",
      "Requirement already satisfied: scikit-learn>=1.0.0 in /opt/miniconda3/envs/gtk-blackhat/lib/python3.11/site-packages (from yellowbrick) (1.7.1)\n",
      "Requirement already satisfied: numpy>=1.16.0 in /opt/miniconda3/envs/gtk-blackhat/lib/python3.11/site-packages (from yellowbrick) (1.24.3)\n",
      "Requirement already satisfied: cycler>=0.10.0 in /opt/miniconda3/envs/gtk-blackhat/lib/python3.11/site-packages (from yellowbrick) (0.11.0)\n",
      "Requirement already satisfied: contourpy>=1.0.1 in /opt/miniconda3/envs/gtk-blackhat/lib/python3.11/site-packages (from matplotlib!=3.0.0,>=2.0.2->yellowbrick) (1.3.1)\n",
      "Requirement already satisfied: fonttools>=4.22.0 in /opt/miniconda3/envs/gtk-blackhat/lib/python3.11/site-packages (from matplotlib!=3.0.0,>=2.0.2->yellowbrick) (4.55.3)\n",
      "Requirement already satisfied: kiwisolver>=1.3.1 in /opt/miniconda3/envs/gtk-blackhat/lib/python3.11/site-packages (from matplotlib!=3.0.0,>=2.0.2->yellowbrick) (1.4.8)\n",
      "Requirement already satisfied: packaging>=20.0 in /opt/miniconda3/envs/gtk-blackhat/lib/python3.11/site-packages (from matplotlib!=3.0.0,>=2.0.2->yellowbrick) (25.0)\n",
      "Requirement already satisfied: pillow>=8 in /opt/miniconda3/envs/gtk-blackhat/lib/python3.11/site-packages (from matplotlib!=3.0.0,>=2.0.2->yellowbrick) (11.3.0)\n",
      "Requirement already satisfied: pyparsing>=2.3.1 in /opt/miniconda3/envs/gtk-blackhat/lib/python3.11/site-packages (from matplotlib!=3.0.0,>=2.0.2->yellowbrick) (3.2.0)\n",
      "Requirement already satisfied: python-dateutil>=2.7 in /opt/miniconda3/envs/gtk-blackhat/lib/python3.11/site-packages (from matplotlib!=3.0.0,>=2.0.2->yellowbrick) (2.9.0.post0)\n",
      "Requirement already satisfied: six>=1.5 in /opt/miniconda3/envs/gtk-blackhat/lib/python3.11/site-packages (from python-dateutil>=2.7->matplotlib!=3.0.0,>=2.0.2->yellowbrick) (1.17.0)\n",
      "Requirement already satisfied: joblib>=1.2.0 in /opt/miniconda3/envs/gtk-blackhat/lib/python3.11/site-packages (from scikit-learn>=1.0.0->yellowbrick) (1.4.2)\n",
      "Requirement already satisfied: threadpoolctl>=3.1.0 in /opt/miniconda3/envs/gtk-blackhat/lib/python3.11/site-packages (from scikit-learn>=1.0.0->yellowbrick) (3.5.0)\n",
      "Downloading yellowbrick-1.5-py3-none-any.whl (282 kB)\n",
      "Installing collected packages: yellowbrick\n",
      "Successfully installed yellowbrick-1.5\n"
     ]
    }
   ],
   "source": [
    "!pip install yellowbrick"
   ]
  },
  {
   "cell_type": "code",
   "execution_count": 95,
   "metadata": {
    "ExecuteTime": {
     "end_time": "2022-12-06T16:30:42.154611Z",
     "start_time": "2022-12-06T16:30:35.330346Z"
    },
    "run_control": {
     "frozen": false,
     "read_only": false
    }
   },
   "outputs": [],
   "source": [
    "import pandas as pd\n",
    "import numpy as np\n",
    "\n",
    "from sklearn.cluster import KMeans, MiniBatchKMeans, DBSCAN, AgglomerativeClustering\n",
    "from sklearn.preprocessing import StandardScaler\n",
    "from sklearn.neighbors import kneighbors_graph\n",
    "from sklearn.metrics import silhouette_samples, silhouette_score\n",
    "from scipy.cluster.hierarchy import dendrogram\n",
    "from scipy.spatial.distance import cdist\n",
    "\n",
    "import seaborn as sns\n",
    "\n",
    "from yellowbrick.cluster import SilhouetteVisualizer\n",
    "\n",
    "import matplotlib.pyplot as plt\n",
    "import matplotlib.cm as cm\n",
    "from matplotlib import style\n",
    "style.use(\"ggplot\")"
   ]
  },
  {
   "cell_type": "markdown",
   "metadata": {},
   "source": [
    "# Clustering with Real Data\n",
    "Let's try it on some real data and see what we can produce. As before the first step is to read in the data into a DataFrame.  \n",
    "\n",
    "We will be using this data later, but the dataset consists of approximately 6000 domains--5000 of which were generated by various botnets and 1000 are from the Alexa 1 Million.  The columns are:\n",
    "\n",
    "* `dsrc`:  The source of the domain\n",
    "* `domain`:  The actual domain\n",
    "* `length`:  The length of the domain\n",
    "* `dicts`:  Percentage containing dictionary words\n",
    "* `entropy`:  The entropy of the domain\n",
    "* `numbers`:  The number of digits in the domain\n",
    "* `ngram`:  Different n-grams which appear in the domain (?)"
   ]
  },
  {
   "cell_type": "code",
   "execution_count": 28,
   "metadata": {
    "ExecuteTime": {
     "end_time": "2022-12-06T16:31:31.132871Z",
     "start_time": "2022-12-06T16:31:31.048618Z"
    },
    "run_control": {
     "frozen": false,
     "read_only": false
    },
    "scrolled": true
   },
   "outputs": [
    {
     "data": {
      "text/html": [
       "<div>\n",
       "<style scoped>\n",
       "    .dataframe tbody tr th:only-of-type {\n",
       "        vertical-align: middle;\n",
       "    }\n",
       "\n",
       "    .dataframe tbody tr th {\n",
       "        vertical-align: top;\n",
       "    }\n",
       "\n",
       "    .dataframe thead th {\n",
       "        text-align: right;\n",
       "    }\n",
       "</style>\n",
       "<table border=\"1\" class=\"dataframe\">\n",
       "  <thead>\n",
       "    <tr style=\"text-align: right;\">\n",
       "      <th></th>\n",
       "      <th>dsrc</th>\n",
       "      <th>domain</th>\n",
       "      <th>length</th>\n",
       "      <th>dicts</th>\n",
       "      <th>entropy</th>\n",
       "      <th>numbers</th>\n",
       "      <th>ngram</th>\n",
       "    </tr>\n",
       "  </thead>\n",
       "  <tbody>\n",
       "    <tr>\n",
       "      <th>10316</th>\n",
       "      <td>cryptolocker</td>\n",
       "      <td>xmyjjraopuxrxbo</td>\n",
       "      <td>15</td>\n",
       "      <td>0.266667</td>\n",
       "      <td>3.189898</td>\n",
       "      <td>0</td>\n",
       "      <td>1.778151</td>\n",
       "    </tr>\n",
       "    <tr>\n",
       "      <th>1653</th>\n",
       "      <td>bamital</td>\n",
       "      <td>365fd2375ee7849084b0503fa349645f</td>\n",
       "      <td>32</td>\n",
       "      <td>0.000000</td>\n",
       "      <td>3.640320</td>\n",
       "      <td>24</td>\n",
       "      <td>0.698970</td>\n",
       "    </tr>\n",
       "    <tr>\n",
       "      <th>22356</th>\n",
       "      <td>gameoverdga</td>\n",
       "      <td>25y6te5587i01t2fzqsvnrgjk</td>\n",
       "      <td>25</td>\n",
       "      <td>0.000000</td>\n",
       "      <td>4.293661</td>\n",
       "      <td>10</td>\n",
       "      <td>0.000000</td>\n",
       "    </tr>\n",
       "    <tr>\n",
       "      <th>22793</th>\n",
       "      <td>necurs</td>\n",
       "      <td>unjkyyjhlarusw</td>\n",
       "      <td>14</td>\n",
       "      <td>0.428571</td>\n",
       "      <td>3.378783</td>\n",
       "      <td>0</td>\n",
       "      <td>4.143639</td>\n",
       "    </tr>\n",
       "    <tr>\n",
       "      <th>3935</th>\n",
       "      <td>cryptolocker</td>\n",
       "      <td>sqkrshdoiswl</td>\n",
       "      <td>12</td>\n",
       "      <td>0.583333</td>\n",
       "      <td>3.188722</td>\n",
       "      <td>0</td>\n",
       "      <td>1.690196</td>\n",
       "    </tr>\n",
       "  </tbody>\n",
       "</table>\n",
       "</div>"
      ],
      "text/plain": [
       "               dsrc                            domain  length     dicts  \\\n",
       "10316  cryptolocker                   xmyjjraopuxrxbo      15  0.266667   \n",
       "1653        bamital  365fd2375ee7849084b0503fa349645f      32  0.000000   \n",
       "22356   gameoverdga         25y6te5587i01t2fzqsvnrgjk      25  0.000000   \n",
       "22793        necurs                    unjkyyjhlarusw      14  0.428571   \n",
       "3935   cryptolocker                      sqkrshdoiswl      12  0.583333   \n",
       "\n",
       "        entropy  numbers     ngram  \n",
       "10316  3.189898        0  1.778151  \n",
       "1653   3.640320       24  0.698970  \n",
       "22356  4.293661       10  0.000000  \n",
       "22793  3.378783        0  4.143639  \n",
       "3935   3.188722        0  1.690196  "
      ]
     },
     "execution_count": 28,
     "metadata": {},
     "output_type": "execute_result"
    }
   ],
   "source": [
    "data = pd.read_csv('../data/dga-full.csv')\n",
    "data.sample(5)"
   ]
  },
  {
   "cell_type": "code",
   "execution_count": 29,
   "metadata": {
    "ExecuteTime": {
     "end_time": "2022-12-06T16:31:34.152243Z",
     "start_time": "2022-12-06T16:31:34.141341Z"
    },
    "scrolled": true
   },
   "outputs": [
    {
     "data": {
      "text/plain": [
       "dsrc\n",
       "cryptolocker    10000\n",
       "gameoverdga     10000\n",
       "necurs          10000\n",
       "alexa           10000\n",
       "nivdort          9978\n",
       "bamital          2500\n",
       "Name: count, dtype: int64"
      ]
     },
     "execution_count": 29,
     "metadata": {},
     "output_type": "execute_result"
    }
   ],
   "source": [
    "data['dsrc'].value_counts()"
   ]
  },
  {
   "cell_type": "markdown",
   "metadata": {},
   "source": [
    "## Scaling the Data\n",
    "Since clustering relies on measuring distances between objects it is important that all data points be on the same scale.  There are various methods for doing this, which are beyond the scope of this class, however, for this example, we will use scikit-learn's `StandardScaler` to accomplish this.  (http://scikit-learn.org/stable/modules/generated/sklearn.preprocessing.StandardScaler.html)\n",
    "\n",
    "The StandardScaler transforms each column by:\n",
    "* Subtracting from the element in each row the mean for each feature (column) and then taking this value and\n",
    "* Dividing by that feature's (column's) standard deviation.\n",
    "\n",
    "Scikit-learn has a transformer interface which is very similar to the other scikit-learn interfaces.  The basic steps are:\n",
    "1.  Create the Scaler object\n",
    "2.  Using the feature matrix, call the `.fit()` method to \"train\" the Scaler\n",
    "3.  Use the `.transform()` method to scale the data.\n",
    "\n",
    "**NOTE**: When using a Scaler, it is important to train the scaler on your data, and use this trained scalers on any future predictions. "
   ]
  },
  {
   "cell_type": "code",
   "execution_count": 30,
   "metadata": {
    "ExecuteTime": {
     "end_time": "2022-12-06T16:32:46.682295Z",
     "start_time": "2022-12-06T16:32:46.676826Z"
    },
    "run_control": {
     "frozen": false,
     "read_only": false
    }
   },
   "outputs": [],
   "source": [
    "feature_columns = ['length', 'dicts','entropy','numbers','ngram']\n",
    "scaled_feature_columns = ['scaled_length', 'scaled_dicts','scaled_entropy','scaled_numbers','scaled_ngram']"
   ]
  },
  {
   "cell_type": "code",
   "execution_count": 31,
   "metadata": {
    "ExecuteTime": {
     "end_time": "2022-12-06T16:33:02.844271Z",
     "start_time": "2022-12-06T16:33:02.828263Z"
    },
    "run_control": {
     "frozen": false,
     "read_only": false
    }
   },
   "outputs": [],
   "source": [
    "#Step 1:  Create the scaler\n",
    "scaler = StandardScaler()\n",
    "\n",
    "#Steps 2 & 3:  Fit the scaler and transform this data\n",
    "scaled_df = scaler.fit_transform(data[feature_columns])\n",
    "\n",
    "#Put the scaled data into a dataframe\n",
    "scaled_df = pd.DataFrame(scaled_df, columns=scaled_feature_columns)"
   ]
  },
  {
   "cell_type": "markdown",
   "metadata": {},
   "source": [
    "Take a look at the data and you'll see that the data is now all scaled consistently. "
   ]
  },
  {
   "cell_type": "code",
   "execution_count": 32,
   "metadata": {
    "ExecuteTime": {
     "end_time": "2022-12-06T16:33:42.423945Z",
     "start_time": "2022-12-06T16:33:42.409211Z"
    },
    "run_control": {
     "frozen": false,
     "read_only": false
    },
    "scrolled": true
   },
   "outputs": [
    {
     "data": {
      "text/html": [
       "<div>\n",
       "<style scoped>\n",
       "    .dataframe tbody tr th:only-of-type {\n",
       "        vertical-align: middle;\n",
       "    }\n",
       "\n",
       "    .dataframe tbody tr th {\n",
       "        vertical-align: top;\n",
       "    }\n",
       "\n",
       "    .dataframe thead th {\n",
       "        text-align: right;\n",
       "    }\n",
       "</style>\n",
       "<table border=\"1\" class=\"dataframe\">\n",
       "  <thead>\n",
       "    <tr style=\"text-align: right;\">\n",
       "      <th></th>\n",
       "      <th>scaled_length</th>\n",
       "      <th>scaled_dicts</th>\n",
       "      <th>scaled_entropy</th>\n",
       "      <th>scaled_numbers</th>\n",
       "      <th>scaled_ngram</th>\n",
       "    </tr>\n",
       "  </thead>\n",
       "  <tbody>\n",
       "    <tr>\n",
       "      <th>22683</th>\n",
       "      <td>0.116639</td>\n",
       "      <td>-0.058110</td>\n",
       "      <td>0.809637</td>\n",
       "      <td>-0.498385</td>\n",
       "      <td>-0.722434</td>\n",
       "    </tr>\n",
       "    <tr>\n",
       "      <th>1856</th>\n",
       "      <td>2.216822</td>\n",
       "      <td>-1.346940</td>\n",
       "      <td>0.903181</td>\n",
       "      <td>3.678940</td>\n",
       "      <td>-0.811719</td>\n",
       "    </tr>\n",
       "    <tr>\n",
       "      <th>26786</th>\n",
       "      <td>-0.539668</td>\n",
       "      <td>0.144979</td>\n",
       "      <td>-0.237469</td>\n",
       "      <td>-0.498385</td>\n",
       "      <td>-0.134470</td>\n",
       "    </tr>\n",
       "    <tr>\n",
       "      <th>1184</th>\n",
       "      <td>2.216822</td>\n",
       "      <td>-0.831408</td>\n",
       "      <td>0.318049</td>\n",
       "      <td>2.729548</td>\n",
       "      <td>-0.546932</td>\n",
       "    </tr>\n",
       "    <tr>\n",
       "      <th>33653</th>\n",
       "      <td>-0.408407</td>\n",
       "      <td>1.144799</td>\n",
       "      <td>-0.256155</td>\n",
       "      <td>-0.498385</td>\n",
       "      <td>1.782516</td>\n",
       "    </tr>\n",
       "    <tr>\n",
       "      <th>40980</th>\n",
       "      <td>-0.802191</td>\n",
       "      <td>1.144799</td>\n",
       "      <td>-0.492925</td>\n",
       "      <td>-0.498385</td>\n",
       "      <td>-0.370473</td>\n",
       "    </tr>\n",
       "    <tr>\n",
       "      <th>29483</th>\n",
       "      <td>0.247900</td>\n",
       "      <td>0.821328</td>\n",
       "      <td>0.864322</td>\n",
       "      <td>-0.498385</td>\n",
       "      <td>-0.642722</td>\n",
       "    </tr>\n",
       "    <tr>\n",
       "      <th>21211</th>\n",
       "      <td>1.560515</td>\n",
       "      <td>-0.790038</td>\n",
       "      <td>1.329762</td>\n",
       "      <td>0.830764</td>\n",
       "      <td>-0.410109</td>\n",
       "    </tr>\n",
       "    <tr>\n",
       "      <th>17874</th>\n",
       "      <td>1.429253</td>\n",
       "      <td>-1.604706</td>\n",
       "      <td>1.368819</td>\n",
       "      <td>1.590278</td>\n",
       "      <td>-0.811719</td>\n",
       "    </tr>\n",
       "    <tr>\n",
       "      <th>23480</th>\n",
       "      <td>-0.933453</td>\n",
       "      <td>0.113734</td>\n",
       "      <td>-0.833959</td>\n",
       "      <td>-0.498385</td>\n",
       "      <td>-0.722434</td>\n",
       "    </tr>\n",
       "  </tbody>\n",
       "</table>\n",
       "</div>"
      ],
      "text/plain": [
       "       scaled_length  scaled_dicts  scaled_entropy  scaled_numbers  \\\n",
       "22683       0.116639     -0.058110        0.809637       -0.498385   \n",
       "1856        2.216822     -1.346940        0.903181        3.678940   \n",
       "26786      -0.539668      0.144979       -0.237469       -0.498385   \n",
       "1184        2.216822     -0.831408        0.318049        2.729548   \n",
       "33653      -0.408407      1.144799       -0.256155       -0.498385   \n",
       "40980      -0.802191      1.144799       -0.492925       -0.498385   \n",
       "29483       0.247900      0.821328        0.864322       -0.498385   \n",
       "21211       1.560515     -0.790038        1.329762        0.830764   \n",
       "17874       1.429253     -1.604706        1.368819        1.590278   \n",
       "23480      -0.933453      0.113734       -0.833959       -0.498385   \n",
       "\n",
       "       scaled_ngram  \n",
       "22683     -0.722434  \n",
       "1856      -0.811719  \n",
       "26786     -0.134470  \n",
       "1184      -0.546932  \n",
       "33653      1.782516  \n",
       "40980     -0.370473  \n",
       "29483     -0.642722  \n",
       "21211     -0.410109  \n",
       "17874     -0.811719  \n",
       "23480     -0.722434  "
      ]
     },
     "execution_count": 32,
     "metadata": {},
     "output_type": "execute_result"
    }
   ],
   "source": [
    "scaled_df.sample(10)"
   ]
  },
  {
   "cell_type": "markdown",
   "metadata": {},
   "source": [
    "Finally for convenience, we're going to merge the scaled features with the unscaled features.  "
   ]
  },
  {
   "cell_type": "code",
   "execution_count": 33,
   "metadata": {
    "ExecuteTime": {
     "end_time": "2022-12-06T16:33:47.397679Z",
     "start_time": "2022-12-06T16:33:47.389989Z"
    },
    "run_control": {
     "frozen": false,
     "read_only": false
    }
   },
   "outputs": [],
   "source": [
    "final_data = pd.merge( data, scaled_df, left_index=True, right_index=True)"
   ]
  },
  {
   "cell_type": "code",
   "execution_count": 34,
   "metadata": {
    "ExecuteTime": {
     "end_time": "2022-12-06T16:33:48.208804Z",
     "start_time": "2022-12-06T16:33:48.189741Z"
    },
    "run_control": {
     "frozen": false,
     "read_only": false
    }
   },
   "outputs": [
    {
     "data": {
      "text/html": [
       "<div>\n",
       "<style scoped>\n",
       "    .dataframe tbody tr th:only-of-type {\n",
       "        vertical-align: middle;\n",
       "    }\n",
       "\n",
       "    .dataframe tbody tr th {\n",
       "        vertical-align: top;\n",
       "    }\n",
       "\n",
       "    .dataframe thead th {\n",
       "        text-align: right;\n",
       "    }\n",
       "</style>\n",
       "<table border=\"1\" class=\"dataframe\">\n",
       "  <thead>\n",
       "    <tr style=\"text-align: right;\">\n",
       "      <th></th>\n",
       "      <th>dsrc</th>\n",
       "      <th>domain</th>\n",
       "      <th>length</th>\n",
       "      <th>dicts</th>\n",
       "      <th>entropy</th>\n",
       "      <th>numbers</th>\n",
       "      <th>ngram</th>\n",
       "      <th>scaled_length</th>\n",
       "      <th>scaled_dicts</th>\n",
       "      <th>scaled_entropy</th>\n",
       "      <th>scaled_numbers</th>\n",
       "      <th>scaled_ngram</th>\n",
       "    </tr>\n",
       "  </thead>\n",
       "  <tbody>\n",
       "    <tr>\n",
       "      <th>50605</th>\n",
       "      <td>alexa</td>\n",
       "      <td>extremerestraints</td>\n",
       "      <td>17</td>\n",
       "      <td>1.000000</td>\n",
       "      <td>2.939829</td>\n",
       "      <td>0</td>\n",
       "      <td>31.615138</td>\n",
       "      <td>0.247900</td>\n",
       "      <td>1.144799</td>\n",
       "      <td>-0.506507</td>\n",
       "      <td>-0.498385</td>\n",
       "      <td>5.104495</td>\n",
       "    </tr>\n",
       "    <tr>\n",
       "      <th>24492</th>\n",
       "      <td>necurs</td>\n",
       "      <td>ncvxlxlvjpke</td>\n",
       "      <td>12</td>\n",
       "      <td>0.250000</td>\n",
       "      <td>3.084963</td>\n",
       "      <td>0</td>\n",
       "      <td>0.000000</td>\n",
       "      <td>-0.408407</td>\n",
       "      <td>-0.917330</td>\n",
       "      <td>-0.256155</td>\n",
       "      <td>-0.498385</td>\n",
       "      <td>-0.811719</td>\n",
       "    </tr>\n",
       "    <tr>\n",
       "      <th>24519</th>\n",
       "      <td>necurs</td>\n",
       "      <td>wnhqkrmuverm</td>\n",
       "      <td>12</td>\n",
       "      <td>0.250000</td>\n",
       "      <td>3.251629</td>\n",
       "      <td>0</td>\n",
       "      <td>4.035950</td>\n",
       "      <td>-0.408407</td>\n",
       "      <td>-0.917330</td>\n",
       "      <td>0.031342</td>\n",
       "      <td>-0.498385</td>\n",
       "      <td>-0.056462</td>\n",
       "    </tr>\n",
       "    <tr>\n",
       "      <th>18815</th>\n",
       "      <td>gameoverdga</td>\n",
       "      <td>1sxxeq8npnj2p1oqak0upyqgkm</td>\n",
       "      <td>26</td>\n",
       "      <td>0.115385</td>\n",
       "      <td>4.026987</td>\n",
       "      <td>5</td>\n",
       "      <td>0.000000</td>\n",
       "      <td>1.429253</td>\n",
       "      <td>-1.287455</td>\n",
       "      <td>1.368819</td>\n",
       "      <td>0.451007</td>\n",
       "      <td>-0.811719</td>\n",
       "    </tr>\n",
       "    <tr>\n",
       "      <th>32595</th>\n",
       "      <td>nivdort</td>\n",
       "      <td>caseover</td>\n",
       "      <td>8</td>\n",
       "      <td>1.000000</td>\n",
       "      <td>2.750000</td>\n",
       "      <td>0</td>\n",
       "      <td>8.889270</td>\n",
       "      <td>-0.933453</td>\n",
       "      <td>1.144799</td>\n",
       "      <td>-0.833959</td>\n",
       "      <td>-0.498385</td>\n",
       "      <td>0.851751</td>\n",
       "    </tr>\n",
       "  </tbody>\n",
       "</table>\n",
       "</div>"
      ],
      "text/plain": [
       "              dsrc                      domain  length     dicts   entropy  \\\n",
       "50605        alexa           extremerestraints      17  1.000000  2.939829   \n",
       "24492       necurs                ncvxlxlvjpke      12  0.250000  3.084963   \n",
       "24519       necurs                wnhqkrmuverm      12  0.250000  3.251629   \n",
       "18815  gameoverdga  1sxxeq8npnj2p1oqak0upyqgkm      26  0.115385  4.026987   \n",
       "32595      nivdort                    caseover       8  1.000000  2.750000   \n",
       "\n",
       "       numbers      ngram  scaled_length  scaled_dicts  scaled_entropy  \\\n",
       "50605        0  31.615138       0.247900      1.144799       -0.506507   \n",
       "24492        0   0.000000      -0.408407     -0.917330       -0.256155   \n",
       "24519        0   4.035950      -0.408407     -0.917330        0.031342   \n",
       "18815        5   0.000000       1.429253     -1.287455        1.368819   \n",
       "32595        0   8.889270      -0.933453      1.144799       -0.833959   \n",
       "\n",
       "       scaled_numbers  scaled_ngram  \n",
       "50605       -0.498385      5.104495  \n",
       "24492       -0.498385     -0.811719  \n",
       "24519       -0.498385     -0.056462  \n",
       "18815        0.451007     -0.811719  \n",
       "32595       -0.498385      0.851751  "
      ]
     },
     "execution_count": 34,
     "metadata": {},
     "output_type": "execute_result"
    }
   ],
   "source": [
    "final_data.sample(5)"
   ]
  },
  {
   "cell_type": "markdown",
   "metadata": {},
   "source": [
    "### Your Turn!\n",
    "Now that we have data that is suitable (maybe) for clustering, in the section below, perform K-Means clustering on this data set.  Initially, start out with 2 clusters and assign the `cluster id` as a column in your DataFrame.\n",
    "\n",
    "Then do a `value_counts()` on the `dsrc` column for each cluster to see how the model divided the data.  Try various values for `k` to see how it performed.\n",
    "\n",
    "Remember to use the **scaled features** for your clustering.  "
   ]
  },
  {
   "cell_type": "code",
   "execution_count": 89,
   "metadata": {
    "ExecuteTime": {
     "end_time": "2022-12-06T16:34:18.450543Z",
     "start_time": "2022-12-06T16:34:18.284648Z"
    },
    "run_control": {
     "frozen": false,
     "read_only": false
    }
   },
   "outputs": [
    {
     "name": "stdout",
     "output_type": "stream",
     "text": [
      "[[-0.49760996  0.3716326  -0.3885456  -0.4893535   0.20109624]\n",
      " [ 1.56899145 -1.17177795  1.22510555  1.5429584  -0.63406745]]\n",
      "[1 1 1 ... 0 0 0]\n"
     ]
    }
   ],
   "source": [
    "kmeans = KMeans(n_clusters=2, n_init=2)\n",
    "    \n",
    "kmeans.fit(final_data[scaled_feature_columns])\n",
    "\n",
    "centroids = kmeans.cluster_centers_\n",
    "labels = kmeans.labels_\n",
    "\n",
    "print(centroids)\n",
    "print(labels)"
   ]
  },
  {
   "cell_type": "code",
   "execution_count": 90,
   "metadata": {
    "ExecuteTime": {
     "end_time": "2022-12-06T16:34:21.767297Z",
     "start_time": "2022-12-06T16:34:21.758959Z"
    },
    "run_control": {
     "frozen": false,
     "read_only": false
    }
   },
   "outputs": [
    {
     "data": {
      "text/plain": [
       "dsrc\n",
       "cryptolocker    10000\n",
       "gameoverdga     10000\n",
       "necurs          10000\n",
       "alexa           10000\n",
       "nivdort          9978\n",
       "bamital          2500\n",
       "Name: count, dtype: int64"
      ]
     },
     "execution_count": 90,
     "metadata": {},
     "output_type": "execute_result"
    }
   ],
   "source": [
    "final_data['dsrc'].value_counts()"
   ]
  },
  {
   "cell_type": "code",
   "execution_count": 91,
   "metadata": {
    "ExecuteTime": {
     "end_time": "2022-12-06T16:34:26.738604Z",
     "start_time": "2022-12-06T16:34:26.734997Z"
    },
    "run_control": {
     "frozen": false,
     "read_only": false
    }
   },
   "outputs": [],
   "source": [
    "final_data['cluster_id'] = kmeans.labels_"
   ]
  },
  {
   "cell_type": "code",
   "execution_count": 92,
   "metadata": {},
   "outputs": [
    {
     "data": {
      "text/html": [
       "<div>\n",
       "<style scoped>\n",
       "    .dataframe tbody tr th:only-of-type {\n",
       "        vertical-align: middle;\n",
       "    }\n",
       "\n",
       "    .dataframe tbody tr th {\n",
       "        vertical-align: top;\n",
       "    }\n",
       "\n",
       "    .dataframe thead th {\n",
       "        text-align: right;\n",
       "    }\n",
       "</style>\n",
       "<table border=\"1\" class=\"dataframe\">\n",
       "  <thead>\n",
       "    <tr style=\"text-align: right;\">\n",
       "      <th></th>\n",
       "      <th>dsrc</th>\n",
       "      <th>domain</th>\n",
       "      <th>length</th>\n",
       "      <th>dicts</th>\n",
       "      <th>entropy</th>\n",
       "      <th>numbers</th>\n",
       "      <th>ngram</th>\n",
       "      <th>scaled_length</th>\n",
       "      <th>scaled_dicts</th>\n",
       "      <th>scaled_entropy</th>\n",
       "      <th>scaled_numbers</th>\n",
       "      <th>scaled_ngram</th>\n",
       "      <th>cluster_id</th>\n",
       "      <th>dbs_default</th>\n",
       "    </tr>\n",
       "  </thead>\n",
       "  <tbody>\n",
       "    <tr>\n",
       "      <th>0</th>\n",
       "      <td>bamital</td>\n",
       "      <td>949759d12e0ea541f49675fe4e71a65c</td>\n",
       "      <td>32</td>\n",
       "      <td>0.00000</td>\n",
       "      <td>3.515320</td>\n",
       "      <td>22</td>\n",
       "      <td>0.000000</td>\n",
       "      <td>2.216822</td>\n",
       "      <td>-1.604706</td>\n",
       "      <td>0.486203</td>\n",
       "      <td>3.678940</td>\n",
       "      <td>-0.811719</td>\n",
       "      <td>1</td>\n",
       "      <td>0</td>\n",
       "    </tr>\n",
       "    <tr>\n",
       "      <th>1</th>\n",
       "      <td>bamital</td>\n",
       "      <td>cbaa81d976688b971a43a745795cbb0f</td>\n",
       "      <td>32</td>\n",
       "      <td>0.09375</td>\n",
       "      <td>3.640320</td>\n",
       "      <td>20</td>\n",
       "      <td>0.477121</td>\n",
       "      <td>2.216822</td>\n",
       "      <td>-1.346940</td>\n",
       "      <td>0.701825</td>\n",
       "      <td>3.299183</td>\n",
       "      <td>-0.722434</td>\n",
       "      <td>1</td>\n",
       "      <td>0</td>\n",
       "    </tr>\n",
       "    <tr>\n",
       "      <th>2</th>\n",
       "      <td>bamital</td>\n",
       "      <td>0a175898661ddbad1b3bd99d14d62c6e</td>\n",
       "      <td>32</td>\n",
       "      <td>0.15625</td>\n",
       "      <td>3.593139</td>\n",
       "      <td>19</td>\n",
       "      <td>0.845098</td>\n",
       "      <td>2.216822</td>\n",
       "      <td>-1.175096</td>\n",
       "      <td>0.620440</td>\n",
       "      <td>3.109305</td>\n",
       "      <td>-0.653574</td>\n",
       "      <td>1</td>\n",
       "      <td>0</td>\n",
       "    </tr>\n",
       "    <tr>\n",
       "      <th>3</th>\n",
       "      <td>bamital</td>\n",
       "      <td>c5ee32668c5130c95a9d7eaf91e6b531</td>\n",
       "      <td>32</td>\n",
       "      <td>0.00000</td>\n",
       "      <td>3.694549</td>\n",
       "      <td>20</td>\n",
       "      <td>0.477121</td>\n",
       "      <td>2.216822</td>\n",
       "      <td>-1.604706</td>\n",
       "      <td>0.795370</td>\n",
       "      <td>3.299183</td>\n",
       "      <td>-0.722434</td>\n",
       "      <td>1</td>\n",
       "      <td>0</td>\n",
       "    </tr>\n",
       "    <tr>\n",
       "      <th>4</th>\n",
       "      <td>bamital</td>\n",
       "      <td>b1939fbdf8b57c2683abb9b041aa8518</td>\n",
       "      <td>32</td>\n",
       "      <td>0.18750</td>\n",
       "      <td>3.632049</td>\n",
       "      <td>19</td>\n",
       "      <td>0.903090</td>\n",
       "      <td>2.216822</td>\n",
       "      <td>-1.089174</td>\n",
       "      <td>0.687559</td>\n",
       "      <td>3.109305</td>\n",
       "      <td>-0.642722</td>\n",
       "      <td>1</td>\n",
       "      <td>0</td>\n",
       "    </tr>\n",
       "  </tbody>\n",
       "</table>\n",
       "</div>"
      ],
      "text/plain": [
       "      dsrc                            domain  length    dicts   entropy  \\\n",
       "0  bamital  949759d12e0ea541f49675fe4e71a65c      32  0.00000  3.515320   \n",
       "1  bamital  cbaa81d976688b971a43a745795cbb0f      32  0.09375  3.640320   \n",
       "2  bamital  0a175898661ddbad1b3bd99d14d62c6e      32  0.15625  3.593139   \n",
       "3  bamital  c5ee32668c5130c95a9d7eaf91e6b531      32  0.00000  3.694549   \n",
       "4  bamital  b1939fbdf8b57c2683abb9b041aa8518      32  0.18750  3.632049   \n",
       "\n",
       "   numbers     ngram  scaled_length  scaled_dicts  scaled_entropy  \\\n",
       "0       22  0.000000       2.216822     -1.604706        0.486203   \n",
       "1       20  0.477121       2.216822     -1.346940        0.701825   \n",
       "2       19  0.845098       2.216822     -1.175096        0.620440   \n",
       "3       20  0.477121       2.216822     -1.604706        0.795370   \n",
       "4       19  0.903090       2.216822     -1.089174        0.687559   \n",
       "\n",
       "   scaled_numbers  scaled_ngram  cluster_id  dbs_default  \n",
       "0        3.678940     -0.811719           1            0  \n",
       "1        3.299183     -0.722434           1            0  \n",
       "2        3.109305     -0.653574           1            0  \n",
       "3        3.299183     -0.722434           1            0  \n",
       "4        3.109305     -0.642722           1            0  "
      ]
     },
     "execution_count": 92,
     "metadata": {},
     "output_type": "execute_result"
    }
   ],
   "source": [
    "final_data.head()"
   ]
  },
  {
   "cell_type": "markdown",
   "metadata": {},
   "source": [
    "## Visualize\n",
    "We can plot the results of our clusters, but only a few features at a time b/c we need each feature to be on an axis. So we can select 2 features at a time to plot and see what the results are and if it looks like the clusters are separated in a clear way. Can I draw a line between them? Is that a requirement?"
   ]
  },
  {
   "cell_type": "code",
   "execution_count": 97,
   "metadata": {
    "scrolled": true
   },
   "outputs": [
    {
     "data": {
      "text/plain": [
       "<Axes: xlabel='scaled_length', ylabel='scaled_ngram'>"
      ]
     },
     "execution_count": 97,
     "metadata": {},
     "output_type": "execute_result"
    },
    {
     "data": {
      "image/png": "[encoded data removed]",
      "text/plain": [
       "<Figure size 800x550 with 1 Axes>"
      ]
     },
     "metadata": {},
     "output_type": "display_data"
    }
   ],
   "source": [
    "df = pd.DataFrame(np.random.rand(10,2), columns=[\"A\", \"B\"])\n",
    "df = final_data.loc[:,['scaled_length','scaled_ngram', 'cluster_id']]\n",
    "dic = {0:\"Blue\", 1:\"Red\"}\n",
    "sns.scatterplot(x=\"scaled_length\", y=\"scaled_ngram\", data=df, hue=\"cluster_id\", palette = dic);\n"
   ]
  },
  {
   "cell_type": "markdown",
   "metadata": {},
   "source": [
    "## Dig in\n",
    "We can use our dataframe to summarize these results and look at the details of these clusters. "
   ]
  },
  {
   "cell_type": "code",
   "execution_count": 39,
   "metadata": {
    "ExecuteTime": {
     "end_time": "2022-12-06T16:36:58.193787Z",
     "start_time": "2022-12-06T16:36:58.186602Z"
    },
    "run_control": {
     "frozen": false,
     "read_only": false
    }
   },
   "outputs": [
    {
     "data": {
      "text/plain": [
       "dsrc\n",
       "gameoverdga    9993\n",
       "bamital        2500\n",
       "necurs          140\n",
       "alexa             3\n",
       "Name: count, dtype: int64"
      ]
     },
     "execution_count": 39,
     "metadata": {},
     "output_type": "execute_result"
    }
   ],
   "source": [
    "# count the number of each 'dsrc' found in cluster number 1\n",
    "final_data[final_data['cluster_id'] == 1]['dsrc'].value_counts()"
   ]
  },
  {
   "cell_type": "code",
   "execution_count": 40,
   "metadata": {},
   "outputs": [
    {
     "data": {
      "text/plain": [
       "21791         1ilaa2dsc697l1lje6k917gt8oj\n",
       "22136          1iwqhu81pulrz7lcv3s1w9txhr\n",
       "1257     1a2e148f7963bcb6929de5257d6bfebf\n",
       "14532          1q1gq821h4hchs2357i82alqpz\n",
       "15861            jaybr92h05sxvec747pbn4cs\n",
       "1275     f3cd89170a17fe4716ffdc792b54819b\n",
       "218      6cfee015006beefdd7472ba46c382b19\n",
       "289      f5dbdc7eddaeee4e9cc251fb0022c0d5\n",
       "22184           hsin2e1u1gwe1e1nxbia81ixl\n",
       "18957          3gbiba15r2z231pgoxzm5ue14w\n",
       "14021        1y72ccm1ex4t9y12pwkfm1fuibn9\n",
       "13593           4qyoep1hrr8n17v9c6xssx3bt\n",
       "16165          x673uutk8ofi17oooo81aei0nj\n",
       "5        de679d29345e1e23210605d0bd3492f2\n",
       "17614         134u25d1qvrym7luvmo51upifpo\n",
       "Name: domain, dtype: object"
      ]
     },
     "execution_count": 40,
     "metadata": {},
     "output_type": "execute_result"
    }
   ],
   "source": [
    "final_data[final_data['cluster_id'] == 1]['domain'].sample(15)"
   ]
  },
  {
   "cell_type": "code",
   "execution_count": 41,
   "metadata": {
    "ExecuteTime": {
     "end_time": "2022-12-06T16:36:13.982476Z",
     "start_time": "2022-12-06T16:36:13.971676Z"
    }
   },
   "outputs": [
    {
     "data": {
      "text/plain": [
       "24537       bnocediokwpbjuqnj\n",
       "27204                usewmqol\n",
       "11785            fhyaalgdbsvt\n",
       "32020    eqcyrefvscyixpgjgwyn\n",
       "48646             otvest-mist\n",
       "39479               cloudgone\n",
       "35768                wifeborn\n",
       "33590                thisfeed\n",
       "40203                roomfive\n",
       "51865                   sijex\n",
       "42584          ashleyrnadison\n",
       "29396     dybhyiqdsriqyaosfqn\n",
       "26509       karyqcaisfhglskjs\n",
       "31743                 vlppocp\n",
       "36503                casekind\n",
       "Name: domain, dtype: object"
      ]
     },
     "execution_count": 41,
     "metadata": {},
     "output_type": "execute_result"
    }
   ],
   "source": [
    "final_data[final_data['cluster_id'] == 0]['domain'].sample(15)"
   ]
  },
  {
   "cell_type": "code",
   "execution_count": 42,
   "metadata": {
    "ExecuteTime": {
     "end_time": "2020-09-30T09:05:10.475503Z",
     "start_time": "2020-09-30T09:05:10.467069Z"
    }
   },
   "outputs": [
    {
     "data": {
      "text/plain": [
       "9249     feayggmwawgcysy\n",
       "5920        hfauvmeierfr\n",
       "10447    dctpnwtrcmohyaq\n",
       "10488    tocvoscngjmkvfb\n",
       "9846       jjqyubkgvrbtv\n",
       "Name: domain, dtype: object"
      ]
     },
     "execution_count": 42,
     "metadata": {},
     "output_type": "execute_result"
    }
   ],
   "source": [
    "final_data['domain'][final_data['dsrc'] == 'cryptolocker'].sample(5)"
   ]
  },
  {
   "cell_type": "code",
   "execution_count": 43,
   "metadata": {
    "ExecuteTime": {
     "end_time": "2020-09-30T09:04:38.245492Z",
     "start_time": "2020-09-30T09:04:38.235419Z"
    },
    "run_control": {
     "frozen": false,
     "read_only": false
    }
   },
   "outputs": [
    {
     "data": {
      "text/plain": [
       "1663    3ac3aee1f5eb6c47efca7f1b20b46b5c\n",
       "2383    d7ac8c6b0f65e6bb34ed31e96a5bd8b3\n",
       "967     1557136eb042a2065f935fb6af0bbca1\n",
       "2472    fe71f17daf8c1309763d230e4722f4c0\n",
       "1593    61f6b45aeca015ab5472c38979bc2962\n",
       "2443    fd37bd7d886551ad5286b53c38432c2f\n",
       "963     08124f0a44154a50826dd136b479e5fd\n",
       "2341    4f3410fb82738a9eee51bd2cda190159\n",
       "2127    e41615c5239418b88903caf81cf90cef\n",
       "2429    54e7463ea77113c4c160bd0c8f66abd5\n",
       "Name: domain, dtype: object"
      ]
     },
     "execution_count": 43,
     "metadata": {},
     "output_type": "execute_result"
    }
   ],
   "source": [
    "final_data[final_data['dsrc'] == \"bamital\"]['domain'].sample(10)"
   ]
  },
  {
   "cell_type": "code",
   "execution_count": 44,
   "metadata": {
    "ExecuteTime": {
     "end_time": "2020-07-30T14:50:37.781825Z",
     "start_time": "2020-07-30T14:50:37.771591Z"
    },
    "run_control": {
     "frozen": false,
     "read_only": false
    }
   },
   "outputs": [
    {
     "data": {
      "text/plain": [
       "41870       spendought\n",
       "40372         darkrise\n",
       "33241       equaltaste\n",
       "35494         mostbody\n",
       "39726        sickeight\n",
       "37979        hangseven\n",
       "36671     milknovember\n",
       "38221         wentlady\n",
       "35719         pickborn\n",
       "38728    whichnovember\n",
       "Name: domain, dtype: object"
      ]
     },
     "execution_count": 44,
     "metadata": {},
     "output_type": "execute_result"
    }
   ],
   "source": [
    "final_data[final_data['dsrc'] == \"nivdort\"]['domain'].sample(10)"
   ]
  },
  {
   "cell_type": "code",
   "execution_count": 45,
   "metadata": {
    "ExecuteTime": {
     "end_time": "2020-07-30T14:50:38.535616Z",
     "start_time": "2020-07-30T14:50:38.524880Z"
    },
    "run_control": {
     "frozen": false,
     "read_only": false
    }
   },
   "outputs": [
    {
     "data": {
      "text/plain": [
       "22546    kujnifxvqwkpyytegqohv\n",
       "22632     xwhqnkkesylwbydfnsxm\n",
       "22711       wuiioaeyklhgcxwmad\n",
       "22736       efkwmijhtpxsgrhfgq\n",
       "22743      shngncqtfjlfhdjrtks\n",
       "                 ...          \n",
       "31897    pyskufklybvjhfpywtvlc\n",
       "31956      ixhlkocwfwwdktjmdvj\n",
       "32246     sxgkkqnnfjsoyhebpypw\n",
       "32434    cqvkgxsntoevqbkxnyvyf\n",
       "32456    qxvbbtlxhwguongdywukl\n",
       "Name: domain, Length: 140, dtype: object"
      ]
     },
     "execution_count": 45,
     "metadata": {},
     "output_type": "execute_result"
    }
   ],
   "source": [
    "final_data[(final_data['cluster_id'] == 1) & (final_data['dsrc'] == 'necurs')]['domain']"
   ]
  },
  {
   "cell_type": "code",
   "execution_count": 46,
   "metadata": {
    "ExecuteTime": {
     "end_time": "2020-07-30T14:50:40.128862Z",
     "start_time": "2020-07-30T14:50:40.112892Z"
    },
    "run_control": {
     "frozen": false,
     "read_only": false
    }
   },
   "outputs": [
    {
     "data": {
      "text/html": [
       "<div>\n",
       "<style scoped>\n",
       "    .dataframe tbody tr th:only-of-type {\n",
       "        vertical-align: middle;\n",
       "    }\n",
       "\n",
       "    .dataframe tbody tr th {\n",
       "        vertical-align: top;\n",
       "    }\n",
       "\n",
       "    .dataframe thead th {\n",
       "        text-align: right;\n",
       "    }\n",
       "</style>\n",
       "<table border=\"1\" class=\"dataframe\">\n",
       "  <thead>\n",
       "    <tr style=\"text-align: right;\">\n",
       "      <th></th>\n",
       "      <th>dsrc</th>\n",
       "      <th>domain</th>\n",
       "      <th>length</th>\n",
       "      <th>dicts</th>\n",
       "      <th>entropy</th>\n",
       "      <th>numbers</th>\n",
       "      <th>ngram</th>\n",
       "      <th>scaled_length</th>\n",
       "      <th>scaled_dicts</th>\n",
       "      <th>scaled_entropy</th>\n",
       "      <th>scaled_numbers</th>\n",
       "      <th>scaled_ngram</th>\n",
       "      <th>cluster_id</th>\n",
       "    </tr>\n",
       "  </thead>\n",
       "  <tbody>\n",
       "    <tr>\n",
       "      <th>36186</th>\n",
       "      <td>nivdort</td>\n",
       "      <td>whomwing</td>\n",
       "      <td>8</td>\n",
       "      <td>1.000000</td>\n",
       "      <td>2.750000</td>\n",
       "      <td>0</td>\n",
       "      <td>6.823103</td>\n",
       "      <td>-0.933453</td>\n",
       "      <td>1.144799</td>\n",
       "      <td>-0.833959</td>\n",
       "      <td>-0.498385</td>\n",
       "      <td>0.465104</td>\n",
       "      <td>0</td>\n",
       "    </tr>\n",
       "    <tr>\n",
       "      <th>25693</th>\n",
       "      <td>necurs</td>\n",
       "      <td>ocwctsjufecgthycem</td>\n",
       "      <td>18</td>\n",
       "      <td>0.666667</td>\n",
       "      <td>3.503258</td>\n",
       "      <td>0</td>\n",
       "      <td>3.890756</td>\n",
       "      <td>0.379162</td>\n",
       "      <td>0.228297</td>\n",
       "      <td>0.465398</td>\n",
       "      <td>-0.498385</td>\n",
       "      <td>-0.083633</td>\n",
       "      <td>0</td>\n",
       "    </tr>\n",
       "    <tr>\n",
       "      <th>16169</th>\n",
       "      <td>gameoverdga</td>\n",
       "      <td>19hfhb718al3zqtc6uvu3h38a1</td>\n",
       "      <td>26</td>\n",
       "      <td>0.115385</td>\n",
       "      <td>3.921030</td>\n",
       "      <td>11</td>\n",
       "      <td>0.000000</td>\n",
       "      <td>1.429253</td>\n",
       "      <td>-1.287455</td>\n",
       "      <td>1.186045</td>\n",
       "      <td>1.590278</td>\n",
       "      <td>-0.811719</td>\n",
       "      <td>1</td>\n",
       "    </tr>\n",
       "    <tr>\n",
       "      <th>31564</th>\n",
       "      <td>necurs</td>\n",
       "      <td>jnseggvgcrevskkp</td>\n",
       "      <td>16</td>\n",
       "      <td>0.687500</td>\n",
       "      <td>3.202820</td>\n",
       "      <td>0</td>\n",
       "      <td>5.022577</td>\n",
       "      <td>0.116639</td>\n",
       "      <td>0.285579</td>\n",
       "      <td>-0.052854</td>\n",
       "      <td>-0.498385</td>\n",
       "      <td>0.128168</td>\n",
       "      <td>0</td>\n",
       "    </tr>\n",
       "    <tr>\n",
       "      <th>27264</th>\n",
       "      <td>necurs</td>\n",
       "      <td>xblefgs</td>\n",
       "      <td>7</td>\n",
       "      <td>0.857143</td>\n",
       "      <td>2.807355</td>\n",
       "      <td>0</td>\n",
       "      <td>2.318063</td>\n",
       "      <td>-1.064714</td>\n",
       "      <td>0.752012</td>\n",
       "      <td>-0.735023</td>\n",
       "      <td>-0.498385</td>\n",
       "      <td>-0.377934</td>\n",
       "      <td>0</td>\n",
       "    </tr>\n",
       "  </tbody>\n",
       "</table>\n",
       "</div>"
      ],
      "text/plain": [
       "              dsrc                      domain  length     dicts   entropy  \\\n",
       "36186      nivdort                    whomwing       8  1.000000  2.750000   \n",
       "25693       necurs          ocwctsjufecgthycem      18  0.666667  3.503258   \n",
       "16169  gameoverdga  19hfhb718al3zqtc6uvu3h38a1      26  0.115385  3.921030   \n",
       "31564       necurs            jnseggvgcrevskkp      16  0.687500  3.202820   \n",
       "27264       necurs                     xblefgs       7  0.857143  2.807355   \n",
       "\n",
       "       numbers     ngram  scaled_length  scaled_dicts  scaled_entropy  \\\n",
       "36186        0  6.823103      -0.933453      1.144799       -0.833959   \n",
       "25693        0  3.890756       0.379162      0.228297        0.465398   \n",
       "16169       11  0.000000       1.429253     -1.287455        1.186045   \n",
       "31564        0  5.022577       0.116639      0.285579       -0.052854   \n",
       "27264        0  2.318063      -1.064714      0.752012       -0.735023   \n",
       "\n",
       "       scaled_numbers  scaled_ngram  cluster_id  \n",
       "36186       -0.498385      0.465104           0  \n",
       "25693       -0.498385     -0.083633           0  \n",
       "16169        1.590278     -0.811719           1  \n",
       "31564       -0.498385      0.128168           0  \n",
       "27264       -0.498385     -0.377934           0  "
      ]
     },
     "execution_count": 46,
     "metadata": {},
     "output_type": "execute_result"
    }
   ],
   "source": [
    "final_data.sample(5)"
   ]
  },
  {
   "cell_type": "markdown",
   "metadata": {
    "collapsed": true,
    "jupyter": {
     "outputs_hidden": true
    }
   },
   "source": [
    "## Visualizing Performance\n",
    "As we already know, it is difficult to measure the performance of clustering models since there usually is no known ground truth from which to evaluate your model.  However, there are two techniques which \n",
    "\n",
    "The “elbow” method of selecting the optimal number of clusters for K-means clustering. K-means is a simple unsupervised machine learning algorithm that groups data into a specified number (k) of clusters. Because the user must specify in advance what k to choose, the algorithm is somewhat naive – it assigns all members to k clusters even if that is not the right k for the dataset.\n",
    "\n",
    "The elbow method: \n",
    "1. Calc k-means clustering on the dataset for a range of values for k (say from 1-10).\n",
    "2. For each value of k, compute Sum of squared distances of samples to their closest cluster center. Often called the Within-Cluster Sum of Squares.\n",
    "3. Plot these values for each k\n",
    "4. Determine best value of k based on inflection point (elbow) in the graph.\n",
    "   \n",
    "If the line chart looks like an arm, then the “elbow” (the point of inflection on the curve) is the best value of k. The “arm” can be either up or down, but if there is a strong inflection point, it is a good indication that the underlying model fits best at that point. \n",
    "\n",
    "\n",
    "### Your Turn!\n",
    "In the box below, create a visualization using the elbow method to see if there are any inflection points in the distortion score. That is, do you see an elbow in this graph? That should be the 'ideal' number of clusters for our k-means model of this data. \n",
    "\n",
    "Try different numbers for the sample and see how this affects the graph. \n",
    "Try differen values for the range of k to see how this changes the inflection point"
   ]
  },
  {
   "cell_type": "code",
   "execution_count": 47,
   "metadata": {},
   "outputs": [
    {
     "data": {
      "image/png": "[encoded data removed]",
      "text/plain": [
       "<Figure size 800x550 with 1 Axes>"
      ]
     },
     "metadata": {},
     "output_type": "display_data"
    }
   ],
   "source": [
    "WCSS=[]\n",
    "for i in range(4,20):\n",
    "  kmeans=KMeans(n_clusters=i,init='k-means++')\n",
    "  kmeans.fit(final_data[scaled_feature_columns].sample(50000))\n",
    "  WCSS.append(kmeans.inertia_)\n",
    "WCSS\n",
    "\n",
    "plt.plot(range(4,20),WCSS);\n",
    "plt.ylabel('Within-Cluster Sum of Squares')\n",
    "plt.xlabel('k=number of clusters')\n",
    "plt.title('Elbow method for determining k');"
   ]
  },
  {
   "cell_type": "markdown",
   "metadata": {},
   "source": [
    "## Another Way to Visualize Clustering Performance\n",
    "The Silhouette Coefficient is used when the ground-truth about the dataset is unknown and computes the density of clusters computed by the model. The score is computed by averaging the silhouette coefficient for each sample, computed as the difference between the average intra-cluster distance and the mean nearest-cluster distance for each sample, normalized by the maximum value. This produces a score between 1 and -1, where 1 is highly dense clusters and -1 is completely incorrect clustering. (http://www.scikit-yb.org/en/latest/api/cluster/silhouette.html)\n",
    "\n",
    "\n",
    "### Your Turn!\n",
    "Using the YellowBrick `SilhouetteVisualizer`, try visualizing models with various values of `K`.\n",
    "\n",
    "**Note**:  This visualization is quite expensive, so I recommend performing this using a sample o your original data."
   ]
  },
  {
   "cell_type": "code",
   "execution_count": 49,
   "metadata": {
    "ExecuteTime": {
     "end_time": "2020-07-30T14:51:20.839427Z",
     "start_time": "2020-07-30T14:51:17.730155Z"
    },
    "run_control": {
     "frozen": false,
     "read_only": false
    }
   },
   "outputs": [
    {
     "data": {
      "image/png": "[encoded data removed]",
      "text/plain": [
       "<Figure size 800x550 with 1 Axes>"
      ]
     },
     "metadata": {},
     "output_type": "display_data"
    },
    {
     "data": {
      "text/plain": [
       "<Axes: title={'center': 'Silhouette Plot of KMeans Clustering for 10000 Samples in 6 Centers'}, xlabel='silhouette coefficient values', ylabel='cluster label'>"
      ]
     },
     "execution_count": 49,
     "metadata": {},
     "output_type": "execute_result"
    }
   ],
   "source": [
    "visualizer = SilhouetteVisualizer( KMeans(n_clusters=6, n_init=3))\n",
    "\n",
    "visualizer.fit(final_data[scaled_feature_columns].sample(10000))\n",
    "visualizer.show()"
   ]
  },
  {
   "cell_type": "markdown",
   "metadata": {},
   "source": [
    "## Anomaly Detection using Clustering methods\n",
    "Let's use a hierarchical clustering method to detect anomalies in a set of data points. The one we will use is called [agglomerative clustering](https://scikit-learn.org/stable/modules/generated/sklearn.cluster.AgglomerativeClustering.html). \n",
    "\n",
    "First we will create an anomaly dataset that only has 20 DGA rows and 1000 legit samples. Thus, there are 20 anomalies in this dataset that we know of. Then we will see if our clustering method can detect them. "
   ]
  },
  {
   "cell_type": "code",
   "execution_count": 50,
   "metadata": {},
   "outputs": [
    {
     "name": "stdout",
     "output_type": "stream",
     "text": [
      "isDGA\n",
      "dga      1000\n",
      "legit    1000\n",
      "Name: count, dtype: int64\n"
     ]
    }
   ],
   "source": [
    "dga_data = pd.read_csv('../data/dga_features_final_df_domain.csv')\n",
    "print(dga_data.isDGA.value_counts())"
   ]
  },
  {
   "cell_type": "code",
   "execution_count": 51,
   "metadata": {},
   "outputs": [],
   "source": [
    "is_dga = dga_data[dga_data['isDGA']=='dga'].sample(20)\n",
    "not_dga = dga_data[dga_data['isDGA']=='legit']"
   ]
  },
  {
   "cell_type": "code",
   "execution_count": 52,
   "metadata": {},
   "outputs": [
    {
     "name": "stdout",
     "output_type": "stream",
     "text": [
      "10\n",
      "1000\n"
     ]
    }
   ],
   "source": [
    "print(len(is_dga))\n",
    "print(len(not_dga))"
   ]
  },
  {
   "cell_type": "code",
   "execution_count": 53,
   "metadata": {},
   "outputs": [
    {
     "data": {
      "text/plain": [
       "isDGA\n",
       "legit    1000\n",
       "dga        10\n",
       "Name: count, dtype: int64"
      ]
     },
     "execution_count": 53,
     "metadata": {},
     "output_type": "execute_result"
    }
   ],
   "source": [
    "dga_anomaly_data = pd.concat([is_dga, not_dga])\n",
    "dga_anomaly_data['isDGA'].value_counts()"
   ]
  },
  {
   "cell_type": "code",
   "execution_count": 54,
   "metadata": {},
   "outputs": [],
   "source": [
    "dga_anomaly_data_domain = dga_anomaly_data\n",
    "dga_anomaly_data = dga_anomaly_data.drop('domain',axis=1)"
   ]
  },
  {
   "cell_type": "markdown",
   "metadata": {},
   "source": [
    "#### Now use this dataset that conatins only a few anomalies in clustering\n",
    "\n",
    "First we want to scale the data because it is clustering which means that distance is important and that is extremely sensitive to different scales. The code is below, but if you want you can try to use  the Min Max Scaler after you fir the model to see if it changes the resuls. "
   ]
  },
  {
   "cell_type": "code",
   "execution_count": 56,
   "metadata": {},
   "outputs": [
    {
     "data": {
      "text/html": [
       "<div>\n",
       "<style scoped>\n",
       "    .dataframe tbody tr th:only-of-type {\n",
       "        vertical-align: middle;\n",
       "    }\n",
       "\n",
       "    .dataframe tbody tr th {\n",
       "        vertical-align: top;\n",
       "    }\n",
       "\n",
       "    .dataframe thead th {\n",
       "        text-align: right;\n",
       "    }\n",
       "</style>\n",
       "<table border=\"1\" class=\"dataframe\">\n",
       "  <thead>\n",
       "    <tr style=\"text-align: right;\">\n",
       "      <th></th>\n",
       "      <th>isDGA</th>\n",
       "      <th>ngrams</th>\n",
       "    </tr>\n",
       "  </thead>\n",
       "  <tbody>\n",
       "    <tr>\n",
       "      <th>913</th>\n",
       "      <td>dga</td>\n",
       "      <td>357.265793</td>\n",
       "    </tr>\n",
       "    <tr>\n",
       "      <th>780</th>\n",
       "      <td>dga</td>\n",
       "      <td>591.538384</td>\n",
       "    </tr>\n",
       "    <tr>\n",
       "      <th>756</th>\n",
       "      <td>dga</td>\n",
       "      <td>1288.619048</td>\n",
       "    </tr>\n",
       "    <tr>\n",
       "      <th>681</th>\n",
       "      <td>dga</td>\n",
       "      <td>733.531453</td>\n",
       "    </tr>\n",
       "    <tr>\n",
       "      <th>85</th>\n",
       "      <td>dga</td>\n",
       "      <td>815.635354</td>\n",
       "    </tr>\n",
       "  </tbody>\n",
       "</table>\n",
       "</div>"
      ],
      "text/plain": [
       "    isDGA       ngrams\n",
       "913   dga   357.265793\n",
       "780   dga   591.538384\n",
       "756   dga  1288.619048\n",
       "681   dga   733.531453\n",
       "85    dga   815.635354"
      ]
     },
     "execution_count": 56,
     "metadata": {},
     "output_type": "execute_result"
    }
   ],
   "source": [
    "dga_anomaly_data.head()"
   ]
  },
  {
   "cell_type": "code",
   "execution_count": 67,
   "metadata": {},
   "outputs": [],
   "source": [
    "dga_anomaly_data  = StandardScaler().fit_transform(dga_anomaly_data.loc[:,'ngrams'].values.reshape(-1, 1))"
   ]
  },
  {
   "cell_type": "markdown",
   "metadata": {},
   "source": [
    "Now that we have prepared the data, we can put it into a model. Call the Agglomerative Clustering model from sklearn and fit it to the data. name the model **agglomerative_clust**"
   ]
  },
  {
   "cell_type": "code",
   "execution_count": 68,
   "metadata": {},
   "outputs": [],
   "source": [
    "agglomerative_clust = AgglomerativeClustering(distance_threshold=0, n_clusters=None)\n",
    "\n",
    "# Your code here\n",
    "agglomerative_clust = agglomerative_clust.fit(dga_anomaly_data)\n",
    "\n",
    "# pull out the label of the cluster each point belongs to. \n",
    "labels_for_clusters = agglomerative_clust.labels_"
   ]
  },
  {
   "cell_type": "markdown",
   "metadata": {},
   "source": [
    "This plot_dendrogram function will plot the dendrogram for the cluster model you just fitted to the data. "
   ]
  },
  {
   "cell_type": "code",
   "execution_count": 69,
   "metadata": {},
   "outputs": [],
   "source": [
    "def plot_dendrogram(model, **kwargs):\n",
    "    # Create linkage matrix and then plot the dendrogram\n",
    "\n",
    "    # create the counts of samples under each node\n",
    "    counts = np.zeros(model.children_.shape[0])\n",
    "    n_samples = len(model.labels_)\n",
    "    for i, merge in enumerate(model.children_):\n",
    "        current_count = 0\n",
    "        for child_idx in merge:\n",
    "            if child_idx < n_samples:\n",
    "                current_count += 1  # leaf node\n",
    "            else:\n",
    "                current_count += counts[child_idx - n_samples]\n",
    "        counts[i] = current_count\n",
    "\n",
    "    linkage_matrix = np.column_stack(\n",
    "        [model.children_, model.distances_, counts]\n",
    "    ).astype(float)\n",
    "\n",
    "    # Plot the corresponding dendrogram\n",
    "    dendrogram(linkage_matrix, **kwargs)"
   ]
  },
  {
   "cell_type": "markdown",
   "metadata": {},
   "source": [
    "Use the plot_dendrogram function to plot the dendrogram. You an get lower and lower levels if you increase the value of **p**. Try plotting a few values of **p** to see the difference and notice what happens."
   ]
  },
  {
   "cell_type": "code",
   "execution_count": 71,
   "metadata": {},
   "outputs": [
    {
     "data": {
      "image/png": "[encoded data removed]",
      "text/plain": [
       "<Figure size 800x550 with 1 Axes>"
      ]
     },
     "metadata": {},
     "output_type": "display_data"
    }
   ],
   "source": [
    "plot_dendrogram(agglomerative_clust, truncate_mode=\"level\", p=5);\n",
    "plt.xlabel(\"Number of points in node (or index of point if no parenthesis).\");\n"
   ]
  },
  {
   "cell_type": "markdown",
   "metadata": {},
   "source": [
    "Notice that in the plot there are some digits on the x-axis with no parenthesis. These are nodes that did not have more than 1 data point. We want to take a look at these because they are 'far' enough away from the rest of the data to warrant their own node, and thus could be an anomaly. \n",
    "\n",
    "Below, use the original pandas data frame to print the rows of the single nodes and see if these are our few DGAs. "
   ]
  },
  {
   "cell_type": "code",
   "execution_count": 72,
   "metadata": {},
   "outputs": [
    {
     "data": {
      "text/plain": [
       "isDGA                                  dga\n",
       "domain    2a50089de733fcb3ad58f3c150b92581\n",
       "ngrams                          357.265793\n",
       "Name: 913, dtype: object"
      ]
     },
     "execution_count": 72,
     "metadata": {},
     "output_type": "execute_result"
    }
   ],
   "source": [
    "dga_anomaly_data_domain.iloc[0,:]"
   ]
  },
  {
   "cell_type": "code",
   "execution_count": 73,
   "metadata": {
    "scrolled": true
   },
   "outputs": [
    {
     "data": {
      "text/plain": [
       "isDGA                            dga\n",
       "domain    ughukrpjfhirgkrlzrwwcvvxtd\n",
       "ngrams                    733.531453\n",
       "Name: 681, dtype: object"
      ]
     },
     "execution_count": 73,
     "metadata": {},
     "output_type": "execute_result"
    }
   ],
   "source": [
    "dga_anomaly_data_domain.iloc[3,:]"
   ]
  },
  {
   "cell_type": "code",
   "execution_count": 74,
   "metadata": {
    "scrolled": true
   },
   "outputs": [
    {
     "data": {
      "text/plain": [
       "isDGA                         dga\n",
       "domain    vsgaprpmrtwtijfusgqgxct\n",
       "ngrams                  967.51603\n",
       "Name: 514, dtype: object"
      ]
     },
     "execution_count": 74,
     "metadata": {},
     "output_type": "execute_result"
    }
   ],
   "source": [
    "dga_anomaly_data_domain.iloc[5,:]"
   ]
  },
  {
   "cell_type": "code",
   "execution_count": 75,
   "metadata": {
    "scrolled": true
   },
   "outputs": [
    {
     "data": {
      "text/plain": [
       "isDGA            legit\n",
       "domain    skidrowgames\n",
       "ngrams      1337.05303\n",
       "Name: 1019, dtype: object"
      ]
     },
     "execution_count": 75,
     "metadata": {},
     "output_type": "execute_result"
    }
   ],
   "source": [
    "dga_anomaly_data_domain.iloc[29,:]"
   ]
  },
  {
   "cell_type": "markdown",
   "metadata": {},
   "source": [
    "Another thing to note is just to look at the contents of the smallest cluster (depending on how small you think your anomalies are. IN this case our smallest cluster contains the DGAs. Thus, our model accurately pulled out the DGAs into their own 'anomaly' cluster. "
   ]
  },
  {
   "cell_type": "markdown",
   "metadata": {
    "collapsed": true,
    "jupyter": {
     "outputs_hidden": true
    }
   },
   "source": [
    "## DBSCAN\n",
    "Another clustering method we can try is DBSCAN (http://scikit-learn.org/stable/modules/generated/sklearn.cluster.DBSCAN.html).  Remember that the main tuning parameters for DBSCAN are:\n",
    "\n",
    "* **epsilon (eps)**:  The minimum distance between two samples \n",
    "* **min_samples**:  The minimum number of samples needed to form a neighborhood\n",
    "\n",
    "By default epsilon is 0.5 and the min_samples is 5. First, try DBSCAN with the default options.  If you use the `fit_predict()` function, you can save the results in a new column in your data.  \n",
    "\n",
    "How did this compare with K-Means?  Given that you actually know what the data really is, how did DBSCAN do in terms of identifing meaningful clusters?  Look at the `dsrc` column and do `value_counts()` for the various neighhborhoods.  What did you notice?\n",
    "\n",
    "Try again, but this time experiment with the values of epsilon and min_samples and see what DBSCAN comes up with. "
   ]
  },
  {
   "cell_type": "code",
   "execution_count": 76,
   "metadata": {
    "ExecuteTime": {
     "end_time": "2022-12-06T16:37:58.711881Z",
     "start_time": "2022-12-06T16:37:58.709035Z"
    },
    "run_control": {
     "frozen": false,
     "read_only": false
    }
   },
   "outputs": [],
   "source": [
    "dbscan = DBSCAN(min_samples=50)"
   ]
  },
  {
   "cell_type": "code",
   "execution_count": 77,
   "metadata": {
    "ExecuteTime": {
     "end_time": "2022-12-06T16:38:05.867048Z",
     "start_time": "2022-12-06T16:37:59.900095Z"
    },
    "run_control": {
     "frozen": false,
     "read_only": false
    }
   },
   "outputs": [],
   "source": [
    "final_data['dbs_default'] = dbscan.fit_predict(final_data[scaled_feature_columns])"
   ]
  },
  {
   "cell_type": "code",
   "execution_count": 78,
   "metadata": {
    "ExecuteTime": {
     "end_time": "2022-12-06T16:38:05.935674Z",
     "start_time": "2022-12-06T16:38:05.929144Z"
    },
    "run_control": {
     "frozen": false,
     "read_only": false
    }
   },
   "outputs": [
    {
     "data": {
      "text/plain": [
       "dbs_default\n",
       " 1    39301\n",
       " 2     9973\n",
       " 0     2500\n",
       "-1      284\n",
       " 4      259\n",
       " 3      116\n",
       " 5       45\n",
       "Name: count, dtype: int64"
      ]
     },
     "execution_count": 78,
     "metadata": {},
     "output_type": "execute_result"
    }
   ],
   "source": [
    "final_data['dbs_default'].value_counts()"
   ]
  },
  {
   "cell_type": "code",
   "execution_count": 79,
   "metadata": {
    "ExecuteTime": {
     "end_time": "2022-12-06T16:38:53.679151Z",
     "start_time": "2022-12-06T16:38:53.666096Z"
    },
    "run_control": {
     "frozen": false,
     "read_only": false
    }
   },
   "outputs": [
    {
     "data": {
      "text/plain": [
       "dsrc\n",
       "cryptolocker    10000\n",
       "necurs           9990\n",
       "nivdort          9978\n",
       "alexa            9330\n",
       "gameoverdga         3\n",
       "Name: count, dtype: int64"
      ]
     },
     "execution_count": 79,
     "metadata": {},
     "output_type": "execute_result"
    }
   ],
   "source": [
    "final_data[final_data['dbs_default'] == 1 ]['dsrc'].value_counts()"
   ]
  },
  {
   "cell_type": "code",
   "execution_count": 80,
   "metadata": {
    "ExecuteTime": {
     "end_time": "2022-12-06T16:40:03.133932Z",
     "start_time": "2022-12-06T16:40:03.114816Z"
    }
   },
   "outputs": [
    {
     "data": {
      "text/html": [
       "<div>\n",
       "<style scoped>\n",
       "    .dataframe tbody tr th:only-of-type {\n",
       "        vertical-align: middle;\n",
       "    }\n",
       "\n",
       "    .dataframe tbody tr th {\n",
       "        vertical-align: top;\n",
       "    }\n",
       "\n",
       "    .dataframe thead th {\n",
       "        text-align: right;\n",
       "    }\n",
       "</style>\n",
       "<table border=\"1\" class=\"dataframe\">\n",
       "  <thead>\n",
       "    <tr style=\"text-align: right;\">\n",
       "      <th></th>\n",
       "      <th>dsrc</th>\n",
       "      <th>domain</th>\n",
       "    </tr>\n",
       "  </thead>\n",
       "  <tbody>\n",
       "    <tr>\n",
       "      <th>25907</th>\n",
       "      <td>necurs</td>\n",
       "      <td>gwyrdtgswgaqkvnbdhy</td>\n",
       "    </tr>\n",
       "    <tr>\n",
       "      <th>39055</th>\n",
       "      <td>nivdort</td>\n",
       "      <td>wentkind</td>\n",
       "    </tr>\n",
       "    <tr>\n",
       "      <th>39920</th>\n",
       "      <td>nivdort</td>\n",
       "      <td>lordeasy</td>\n",
       "    </tr>\n",
       "    <tr>\n",
       "      <th>9303</th>\n",
       "      <td>cryptolocker</td>\n",
       "      <td>vvojhppourhird</td>\n",
       "    </tr>\n",
       "    <tr>\n",
       "      <th>42500</th>\n",
       "      <td>alexa</td>\n",
       "      <td>aili</td>\n",
       "    </tr>\n",
       "    <tr>\n",
       "      <th>7935</th>\n",
       "      <td>cryptolocker</td>\n",
       "      <td>wvaymryihmkw</td>\n",
       "    </tr>\n",
       "    <tr>\n",
       "      <th>5599</th>\n",
       "      <td>cryptolocker</td>\n",
       "      <td>qtfyfkpoicyei</td>\n",
       "    </tr>\n",
       "    <tr>\n",
       "      <th>7966</th>\n",
       "      <td>cryptolocker</td>\n",
       "      <td>vbryipjlopen</td>\n",
       "    </tr>\n",
       "    <tr>\n",
       "      <th>30214</th>\n",
       "      <td>necurs</td>\n",
       "      <td>scaufuthbnabudaftlrcl</td>\n",
       "    </tr>\n",
       "    <tr>\n",
       "      <th>23410</th>\n",
       "      <td>necurs</td>\n",
       "      <td>miiodjvdvdwaw</td>\n",
       "    </tr>\n",
       "  </tbody>\n",
       "</table>\n",
       "</div>"
      ],
      "text/plain": [
       "               dsrc                 domain\n",
       "25907        necurs    gwyrdtgswgaqkvnbdhy\n",
       "39055       nivdort               wentkind\n",
       "39920       nivdort               lordeasy\n",
       "9303   cryptolocker         vvojhppourhird\n",
       "42500         alexa                   aili\n",
       "7935   cryptolocker           wvaymryihmkw\n",
       "5599   cryptolocker          qtfyfkpoicyei\n",
       "7966   cryptolocker           vbryipjlopen\n",
       "30214        necurs  scaufuthbnabudaftlrcl\n",
       "23410        necurs          miiodjvdvdwaw"
      ]
     },
     "execution_count": 80,
     "metadata": {},
     "output_type": "execute_result"
    }
   ],
   "source": [
    "final_data[final_data['dbs_default'] == 1 ][['dsrc','domain']].sample(10)"
   ]
  },
  {
   "cell_type": "code",
   "execution_count": 81,
   "metadata": {
    "ExecuteTime": {
     "end_time": "2020-07-30T14:51:30.585926Z",
     "start_time": "2020-07-30T14:51:30.580365Z"
    }
   },
   "outputs": [
    {
     "data": {
      "text/plain": [
       "52147     alexa\n",
       "48803     alexa\n",
       "50417     alexa\n",
       "52233     alexa\n",
       "31069    necurs\n",
       "46861     alexa\n",
       "46128     alexa\n",
       "49387     alexa\n",
       "50572     alexa\n",
       "44669     alexa\n",
       "Name: dsrc, dtype: object"
      ]
     },
     "execution_count": 81,
     "metadata": {},
     "output_type": "execute_result"
    }
   ],
   "source": [
    "final_data[final_data['dbs_default'] == -1 ]['dsrc'].sample(10)"
   ]
  },
  {
   "cell_type": "code",
   "execution_count": 82,
   "metadata": {
    "ExecuteTime": {
     "end_time": "2020-07-30T14:51:30.646160Z",
     "start_time": "2020-07-30T14:51:30.638084Z"
    }
   },
   "outputs": [
    {
     "data": {
      "text/plain": [
       "35490     mostdare\n",
       "36279    cloudcity\n",
       "32647    pickshirt\n",
       "36833     feltpure\n",
       "40438    darkshade\n",
       "Name: domain, dtype: object"
      ]
     },
     "execution_count": 82,
     "metadata": {},
     "output_type": "execute_result"
    }
   ],
   "source": [
    "final_data['domain'][final_data['dsrc'] == \"nivdort\"].sample(5)"
   ]
  },
  {
   "cell_type": "code",
   "execution_count": 83,
   "metadata": {
    "ExecuteTime": {
     "end_time": "2020-07-30T14:51:30.705690Z",
     "start_time": "2020-07-30T14:51:30.697949Z"
    },
    "run_control": {
     "frozen": false,
     "read_only": false
    }
   },
   "outputs": [
    {
     "data": {
      "text/plain": [
       "dsrc\n",
       "gameoverdga    9973\n",
       "Name: count, dtype: int64"
      ]
     },
     "execution_count": 83,
     "metadata": {},
     "output_type": "execute_result"
    }
   ],
   "source": [
    "final_data[final_data['dbs_default'] == 2 ]['dsrc'].value_counts()"
   ]
  },
  {
   "cell_type": "code",
   "execution_count": 84,
   "metadata": {
    "ExecuteTime": {
     "end_time": "2020-07-30T14:51:30.769842Z",
     "start_time": "2020-07-30T14:51:30.758552Z"
    }
   },
   "outputs": [
    {
     "data": {
      "text/plain": [
       "dsrc\n",
       "cryptolocker    10000\n",
       "necurs           9990\n",
       "nivdort          9978\n",
       "alexa            9330\n",
       "gameoverdga         3\n",
       "Name: count, dtype: int64"
      ]
     },
     "execution_count": 84,
     "metadata": {},
     "output_type": "execute_result"
    }
   ],
   "source": [
    "final_data[final_data['dbs_default'] == 1 ]['dsrc'].value_counts()"
   ]
  },
  {
   "cell_type": "code",
   "execution_count": 85,
   "metadata": {
    "ExecuteTime": {
     "end_time": "2020-07-30T14:51:30.832842Z",
     "start_time": "2020-07-30T14:51:30.823509Z"
    }
   },
   "outputs": [
    {
     "data": {
      "text/plain": [
       "7293     fycecmuwblbygam\n",
       "4275     keblmtusevvlbyi\n",
       "6536       aarnfbgfghpdr\n",
       "6017        dbyygvwoivog\n",
       "10629       muvtvdascvei\n",
       "4541       pkfxghpbyjqdf\n",
       "7133     funftcodynxpxnc\n",
       "6032        aqigeanewuju\n",
       "8224     wgsmcfcivfemwqs\n",
       "8441      athkgbygkncyfd\n",
       "Name: domain, dtype: object"
      ]
     },
     "execution_count": 85,
     "metadata": {},
     "output_type": "execute_result"
    }
   ],
   "source": [
    "final_data[final_data['dsrc'] == \"cryptolocker\"]['domain'].sample(10)"
   ]
  },
  {
   "cell_type": "code",
   "execution_count": 86,
   "metadata": {
    "ExecuteTime": {
     "end_time": "2020-07-30T14:51:30.898689Z",
     "start_time": "2020-07-30T14:51:30.889453Z"
    }
   },
   "outputs": [
    {
     "data": {
      "text/plain": [
       "28970              bvfqgxtoud\n",
       "22899       heowcepisqvctdnmy\n",
       "30722          feoupxhbvprmig\n",
       "26879    ogqbomfuknqjrgswlaaj\n",
       "29290       ktxaxbtayfikujdke\n",
       "30977    vqdbusmxothlhmukvkcx\n",
       "24876                tuticrde\n",
       "30791          grirlbxfvheetn\n",
       "25298        pgmwgbvmpfoiewfr\n",
       "27670               fqjwielik\n",
       "Name: domain, dtype: object"
      ]
     },
     "execution_count": 86,
     "metadata": {},
     "output_type": "execute_result"
    }
   ],
   "source": [
    "final_data[final_data['dsrc'] == \"necurs\"]['domain'].sample(10)"
   ]
  },
  {
   "cell_type": "code",
   "execution_count": null,
   "metadata": {},
   "outputs": [],
   "source": []
  },
  {
   "cell_type": "code",
   "execution_count": null,
   "metadata": {},
   "outputs": [],
   "source": []
  }
 ],
 "metadata": {
  "kernelspec": {
   "display_name": "Python 3 (ipykernel)",
   "language": "python",
   "name": "python3"
  },
  "language_info": {
   "codemirror_mode": {
    "name": "ipython",
    "version": 3
   },
   "file_extension": ".py",
   "mimetype": "text/x-python",
   "name": "python",
   "nbconvert_exporter": "python",
   "pygments_lexer": "ipython3",
   "version": "3.11.13"
  },
  "toc": {
   "base_numbering": 1,
   "nav_menu": {},
   "number_sections": false,
   "sideBar": false,
   "skip_h1_title": false,
   "title_cell": "Table of Contents",
   "title_sidebar": "Contents",
   "toc_cell": false,
   "toc_position": {},
   "toc_section_display": false,
   "toc_window_display": false
  },
  "varInspector": {
   "cols": {
    "lenName": 16,
    "lenType": 16,
    "lenVar": 40
   },
   "kernels_config": {
    "python": {
     "delete_cmd_postfix": "",
     "delete_cmd_prefix": "del ",
     "library": "var_list.py",
     "varRefreshCmd": "print(var_dic_list())"
    },
    "r": {
     "delete_cmd_postfix": ") ",
     "delete_cmd_prefix": "rm(",
     "library": "var_list.r",
     "varRefreshCmd": "cat(var_dic_list()) "
    }
   },
   "types_to_exclude": [
    "module",
    "function",
    "builtin_function_or_method",
    "instance",
    "_Feature"
   ],
   "window_display": false
  },
  "widgets": {
   "application/vnd.jupyter.widget-state+json": {
    "state": {},
    "version_major": 2,
    "version_minor": 0
   }
  }
 },
 "nbformat": 4,
 "nbformat_minor": 4
}
