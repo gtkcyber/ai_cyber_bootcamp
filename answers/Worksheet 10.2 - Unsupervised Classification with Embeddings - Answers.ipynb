{
 "cells": [
  {
   "metadata": {},
   "cell_type": "markdown",
   "source": [
    "# Unsupervised Classification with Embeddings - Answers\n",
    "In this lab, we will be working on the following use case:  You run your company's IT and want to make sure that your employees are not signing up for unauthorized services and creating shadow IT.  To do so, we will be building a model to idenfity account verification emails sent to company email addresses.\n",
    "\n",
    "## Finding SaaS Applications\n",
    "The basic approach is that we're going to look at the subjects of emails and compare that subject with the subject(s) of common account operations.  This initial approach starts with email verification emails, but could be expanded to other common SaaS operations such as 2FA, account creation, etc.\n",
    "\n",
    "First, let's read in the data.  As with other labs, this lab uses the `DATA_PATH` variable so if you moved the data anywhere outside of the repository, you will need to modify the `DATA_PATH` variable.  The dataset we will be using for this exercise is in the file `clean_email.csv` which contains approximately 140k email metadata events."
   ],
   "id": "c5d92648ec2423b8"
  },
  {
   "metadata": {
    "ExecuteTime": {
     "end_time": "2025-08-01T21:40:29.973666Z",
     "start_time": "2025-08-01T21:40:29.949Z"
    }
   },
   "cell_type": "code",
   "source": [
    "import pandas as pd\n",
    "import numpy as np\n",
    "from sentence_transformers import SentenceTransformer\n",
    "from sklearn.metrics.pairwise import cosine_similarity\n",
    "\n",
    "# These two lines should only be used on a Mac with Apple Silicon.  If you have a GPU, you can use that as well.\n",
    "import torch\n",
    "device = torch.device(\"mps\" if torch.backends.mps.is_available() else \"cpu\")\n",
    "\n",
    "\n",
    "DATA_PATH = '../data'\n",
    "\n",
    "# You'll need to define a verification message which we will use to compare all the other subjects to.\n",
    "VERIFICATION_TEXT = \"please verify your email\"\n"
   ],
   "id": "30767b678990aa04",
   "outputs": [],
   "execution_count": 2
  },
  {
   "metadata": {},
   "cell_type": "markdown",
   "source": [
    "### The Data\n",
    "Let's read in the data and do some EDA."
   ],
   "id": "d01417a460c58855"
  },
  {
   "metadata": {
    "ExecuteTime": {
     "end_time": "2025-08-01T21:40:36.046336Z",
     "start_time": "2025-08-01T21:40:35.124259Z"
    }
   },
   "cell_type": "code",
   "source": "email_data = pd.read_csv(f\"{DATA_PATH}/clean_email.csv\")",
   "id": "995ead4d2640785d",
   "outputs": [],
   "execution_count": 3
  },
  {
   "metadata": {
    "ExecuteTime": {
     "end_time": "2025-08-01T21:40:36.953537Z",
     "start_time": "2025-08-01T21:40:36.931723Z"
    }
   },
   "cell_type": "code",
   "source": "email_data.sample(5)",
   "id": "f72e5653b85a2127",
   "outputs": [
    {
     "data": {
      "text/plain": [
       "                       date         to_email to_email_account  \\\n",
       "39133   2023-07-10 16:22:08  user1@gmail.com            user1   \n",
       "9429    2022-06-14 23:10:38  user1@gmail.com            user1   \n",
       "132060  2017-12-20 14:15:19  user1@gmail.com            user1   \n",
       "62236   2022-12-12 02:59:50  user1@gmail.com            user1   \n",
       "36447   2018-05-19 19:07:32  user1@gmail.com            user1   \n",
       "\n",
       "       to_email_complete_domain                        from_email  \\\n",
       "39133                 gmail.com  newsletters-noreply@linkedin.com   \n",
       "9429                  gmail.com          invitations@linkedin.com   \n",
       "132060                gmail.com            newsletter@zoomcar.com   \n",
       "62236                 gmail.com  calendar-notification@google.com   \n",
       "36447                 gmail.com             noreply@r.groupon.com   \n",
       "\n",
       "                            from_name     from_email_account  \\\n",
       "39133     Tomasz Tunguz via LinkedIn     newsletters-noreply   \n",
       "9429    Arnaud Chiffert via LinkedIn             invitations   \n",
       "132060                       Zoomcar              newsletter   \n",
       "62236                Google Calendar   calendar-notification   \n",
       "36447                        Groupon                 noreply   \n",
       "\n",
       "       from_email_complete_domain from_email_domain from_email_subdomain  \\\n",
       "39133                linkedin.com          linkedin                  NaN   \n",
       "9429                 linkedin.com          linkedin                  NaN   \n",
       "132060                zoomcar.com           zoomcar                  NaN   \n",
       "62236                  google.com            google                  NaN   \n",
       "36447               r.groupon.com           groupon                    r   \n",
       "\n",
       "       from_email_suffix                                            subject  \n",
       "39133                com            Tomasz Tunguz just published an article  \n",
       "9429                 com  , start a conversation with your new connectio...  \n",
       "132060               com        Zoomcar Now Available At Ahmedabad Airport!  \n",
       "62236                com  Notification: sync @ Sun Dec 11, 2022 9:30pm -...  \n",
       "36447                com                          These Deals are Good Luck  "
      ],
      "text/html": [
       "<div>\n",
       "<style scoped>\n",
       "    .dataframe tbody tr th:only-of-type {\n",
       "        vertical-align: middle;\n",
       "    }\n",
       "\n",
       "    .dataframe tbody tr th {\n",
       "        vertical-align: top;\n",
       "    }\n",
       "\n",
       "    .dataframe thead th {\n",
       "        text-align: right;\n",
       "    }\n",
       "</style>\n",
       "<table border=\"1\" class=\"dataframe\">\n",
       "  <thead>\n",
       "    <tr style=\"text-align: right;\">\n",
       "      <th></th>\n",
       "      <th>date</th>\n",
       "      <th>to_email</th>\n",
       "      <th>to_email_account</th>\n",
       "      <th>to_email_complete_domain</th>\n",
       "      <th>from_email</th>\n",
       "      <th>from_name</th>\n",
       "      <th>from_email_account</th>\n",
       "      <th>from_email_complete_domain</th>\n",
       "      <th>from_email_domain</th>\n",
       "      <th>from_email_subdomain</th>\n",
       "      <th>from_email_suffix</th>\n",
       "      <th>subject</th>\n",
       "    </tr>\n",
       "  </thead>\n",
       "  <tbody>\n",
       "    <tr>\n",
       "      <th>39133</th>\n",
       "      <td>2023-07-10 16:22:08</td>\n",
       "      <td>user1@gmail.com</td>\n",
       "      <td>user1</td>\n",
       "      <td>gmail.com</td>\n",
       "      <td>newsletters-noreply@linkedin.com</td>\n",
       "      <td>Tomasz Tunguz via LinkedIn</td>\n",
       "      <td>newsletters-noreply</td>\n",
       "      <td>linkedin.com</td>\n",
       "      <td>linkedin</td>\n",
       "      <td>NaN</td>\n",
       "      <td>com</td>\n",
       "      <td>Tomasz Tunguz just published an article</td>\n",
       "    </tr>\n",
       "    <tr>\n",
       "      <th>9429</th>\n",
       "      <td>2022-06-14 23:10:38</td>\n",
       "      <td>user1@gmail.com</td>\n",
       "      <td>user1</td>\n",
       "      <td>gmail.com</td>\n",
       "      <td>invitations@linkedin.com</td>\n",
       "      <td>Arnaud Chiffert via LinkedIn</td>\n",
       "      <td>invitations</td>\n",
       "      <td>linkedin.com</td>\n",
       "      <td>linkedin</td>\n",
       "      <td>NaN</td>\n",
       "      <td>com</td>\n",
       "      <td>, start a conversation with your new connectio...</td>\n",
       "    </tr>\n",
       "    <tr>\n",
       "      <th>132060</th>\n",
       "      <td>2017-12-20 14:15:19</td>\n",
       "      <td>user1@gmail.com</td>\n",
       "      <td>user1</td>\n",
       "      <td>gmail.com</td>\n",
       "      <td>newsletter@zoomcar.com</td>\n",
       "      <td>Zoomcar</td>\n",
       "      <td>newsletter</td>\n",
       "      <td>zoomcar.com</td>\n",
       "      <td>zoomcar</td>\n",
       "      <td>NaN</td>\n",
       "      <td>com</td>\n",
       "      <td>Zoomcar Now Available At Ahmedabad Airport!</td>\n",
       "    </tr>\n",
       "    <tr>\n",
       "      <th>62236</th>\n",
       "      <td>2022-12-12 02:59:50</td>\n",
       "      <td>user1@gmail.com</td>\n",
       "      <td>user1</td>\n",
       "      <td>gmail.com</td>\n",
       "      <td>calendar-notification@google.com</td>\n",
       "      <td>Google Calendar</td>\n",
       "      <td>calendar-notification</td>\n",
       "      <td>google.com</td>\n",
       "      <td>google</td>\n",
       "      <td>NaN</td>\n",
       "      <td>com</td>\n",
       "      <td>Notification: sync @ Sun Dec 11, 2022 9:30pm -...</td>\n",
       "    </tr>\n",
       "    <tr>\n",
       "      <th>36447</th>\n",
       "      <td>2018-05-19 19:07:32</td>\n",
       "      <td>user1@gmail.com</td>\n",
       "      <td>user1</td>\n",
       "      <td>gmail.com</td>\n",
       "      <td>noreply@r.groupon.com</td>\n",
       "      <td>Groupon</td>\n",
       "      <td>noreply</td>\n",
       "      <td>r.groupon.com</td>\n",
       "      <td>groupon</td>\n",
       "      <td>r</td>\n",
       "      <td>com</td>\n",
       "      <td>These Deals are Good Luck</td>\n",
       "    </tr>\n",
       "  </tbody>\n",
       "</table>\n",
       "</div>"
      ]
     },
     "execution_count": 4,
     "metadata": {},
     "output_type": "execute_result"
    }
   ],
   "execution_count": 4
  },
  {
   "metadata": {},
   "cell_type": "markdown",
   "source": "You should do some exploratory data analysis here to make sure that all the fields you need are populated.",
   "id": "1ee12766b1fa5706"
  },
  {
   "metadata": {
    "ExecuteTime": {
     "end_time": "2025-08-01T21:40:39.974616Z",
     "start_time": "2025-08-01T21:40:39.967498Z"
    }
   },
   "cell_type": "code",
   "source": [
    "def cleanup_subject(subject: str) -> str:\n",
    "    # Remove newlines\n",
    "    subject = subject.replace('\\n', ' ')\n",
    "\n",
    "    # Remove leading and trailing whitespace\n",
    "    subject = subject.strip()\n",
    "\n",
    "    # Convert to lowercase\n",
    "    subject = subject.lower()\n",
    "    return subject\n"
   ],
   "id": "22c3fcb808b0ab7a",
   "outputs": [],
   "execution_count": 5
  },
  {
   "metadata": {
    "ExecuteTime": {
     "end_time": "2025-08-01T21:40:40.100617Z",
     "start_time": "2025-08-01T21:40:40.017256Z"
    }
   },
   "cell_type": "code",
   "source": [
    "# Drop rows with an empty subject\n",
    "email_data.dropna(subset=['subject'], inplace=True)\n",
    "\n",
    "# Clean up the subject\n",
    "email_data['subject'] = email_data['subject'].apply(cleanup_subject)"
   ],
   "id": "7eedb17158ec6993",
   "outputs": [],
   "execution_count": 6
  },
  {
   "metadata": {},
   "cell_type": "markdown",
   "source": [
    "## Step One:  Generate Embeddings\n",
    "After exploring and cleaning our data, we'll need to compute embeddings for the subject lines of the emails.  You can use a similar method as we did in previous labs OR you can use a library which I really like called `fasttext`.  In the answer notebook, you will see both methods, but the basic idea is the same.  You can use the same embedding model we used in the previous lab to generate the embeddings.\n",
    "\n",
    "**This step will take several minutes to complete.**"
   ],
   "id": "aafac421a701cc0c"
  },
  {
   "metadata": {
    "ExecuteTime": {
     "end_time": "2025-08-01T22:13:17.884569Z",
     "start_time": "2025-08-01T21:51:27.853468Z"
    }
   },
   "cell_type": "code",
   "source": [
    "# Load embedding model\n",
    "model = SentenceTransformer('paraphrase-MiniLM-L6-v2', device=device)\n",
    "# Generate embeddings\n",
    "email_data['embedding'] = email_data['subject'].apply(lambda x: model.encode(x, device=device).tolist())"
   ],
   "id": "d2fd793e412e77f5",
   "outputs": [],
   "execution_count": 8
  },
  {
   "metadata": {
    "ExecuteTime": {
     "end_time": "2025-08-01T22:15:23.458641Z",
     "start_time": "2025-08-01T22:15:23.383279Z"
    }
   },
   "cell_type": "code",
   "source": [
    "# You should also create embeddings for the verification text\n",
    "# You will need to reshape it so that we can compute the cosine_similarity.  Use the reshape(1, -1)\n",
    "VERIFICATION_EMBEDDING = np.array(model.encode(VERIFICATION_TEXT)).reshape(1, -1)"
   ],
   "id": "5f22a9af7962cbbd",
   "outputs": [],
   "execution_count": 9
  },
  {
   "metadata": {},
   "cell_type": "markdown",
   "source": [
    "## Step Two: Comparing the Embeddings\n",
    "What we will need to do her is create a verification text, something like `Please Verify your Email Address` and then we will use cosine similiarity to compare the embeddings for the verification text and the email subjects.\n",
    "\n",
    "### Calculate the Cosine Similiarity\n",
    "\n",
    "Next, we calculate the cosine similarity between the template text and the email subject.  We have to do some data cleanup as well.  For the cleanup we:\n",
    "1. Convert the inputs to strings\n",
    "2. Remove leading/trailing whitespaces\n",
    "3. Replace any newlines with spaces\n",
    "4. Convert to lower case\n",
    "\n",
    "Once we have done that, we'll use the model to get a vector of the sentence and use cosine similiarity to compute the distance between the template text and the email subject.\n",
    "\n",
    "You will have to reshape the lists using the `reshape(1,-1)` function in numpy.  To do this, you'll probably have to convert the series to a NumPy array as shown below:\n",
    "\n",
    "```python\n",
    "np.array(embedding).reshape(1, -1)\n",
    "```\n",
    "\n",
    "You can calculate the cosine similarity by using the `cosine_similarity(a1, a2)` that we imported at the beginning of the lab.  `a1` and `a2` need to be list-like data structures.  Be sure to save these scores in the dataframe."
   ],
   "id": "9f1f2dee6eb87806"
  },
  {
   "metadata": {
    "ExecuteTime": {
     "end_time": "2025-08-01T22:15:44.582905Z",
     "start_time": "2025-08-01T22:15:25.187023Z"
    }
   },
   "cell_type": "code",
   "source": [
    "def text_similarity(embedding) -> float:\n",
    "    return cosine_similarity(np.array(embedding).reshape(1, -1), VERIFICATION_EMBEDDING)[0][0]\n",
    "\n",
    "email_data['similarity_score'] = email_data['embedding'].apply(text_similarity)"
   ],
   "id": "6b4cd13cd1fd2dcc",
   "outputs": [],
   "execution_count": 10
  },
  {
   "metadata": {},
   "cell_type": "markdown",
   "source": [
    "## Step Three:  Finding the Accounts.\n",
    "Now that we have the similarity scores, we can look at the results to find candidate emails.  The closer the similarity score is to 1, the more likely the email is a match. You will have to decide what similarity threshold you want to use to detect these emails.  Experiment with the similarity score to see what threshold works best for our use case.\n",
    "\n",
    "Your task here is to find the emails, then extract the unique sender domains to find out which unauthorized accounts have been created."
   ],
   "id": "a156f92e735e3bdd"
  },
  {
   "metadata": {
    "ExecuteTime": {
     "end_time": "2025-08-01T22:15:53.621792Z",
     "start_time": "2025-08-01T22:15:53.603451Z"
    }
   },
   "cell_type": "code",
   "source": "email_data[email_data['similarity_score'] >= 0.68][['from_email_complete_domain', 'subject']]",
   "id": "494c3d322106346c",
   "outputs": [
    {
     "data": {
      "text/plain": [
       "       from_email_complete_domain  \\\n",
       "307                  lyftmail.com   \n",
       "2496           alerts.comcast.net   \n",
       "2538           alerts.comcast.net   \n",
       "2607           alerts.comcast.net   \n",
       "4987                 hightail.com   \n",
       "...                           ...   \n",
       "135855         alerts.comcast.net   \n",
       "137511              equityzen.com   \n",
       "137544              equityzen.com   \n",
       "139441               lyftmail.com   \n",
       "146419           transferwise.com   \n",
       "\n",
       "                                                subject  \n",
       "307                                  confirm your email  \n",
       "2496        important: please verify your email address  \n",
       "2538        important: please verify your email address  \n",
       "2607        important: please verify your email address  \n",
       "4987                    please verify your email change  \n",
       "...                                                 ...  \n",
       "135855      important: please verify your email address  \n",
       "137511  please verify your email address to get started  \n",
       "137544       reminder: please verify your email address  \n",
       "139441                               confirm your email  \n",
       "146419                       confirm your email address  \n",
       "\n",
       "[75 rows x 2 columns]"
      ],
      "text/html": [
       "<div>\n",
       "<style scoped>\n",
       "    .dataframe tbody tr th:only-of-type {\n",
       "        vertical-align: middle;\n",
       "    }\n",
       "\n",
       "    .dataframe tbody tr th {\n",
       "        vertical-align: top;\n",
       "    }\n",
       "\n",
       "    .dataframe thead th {\n",
       "        text-align: right;\n",
       "    }\n",
       "</style>\n",
       "<table border=\"1\" class=\"dataframe\">\n",
       "  <thead>\n",
       "    <tr style=\"text-align: right;\">\n",
       "      <th></th>\n",
       "      <th>from_email_complete_domain</th>\n",
       "      <th>subject</th>\n",
       "    </tr>\n",
       "  </thead>\n",
       "  <tbody>\n",
       "    <tr>\n",
       "      <th>307</th>\n",
       "      <td>lyftmail.com</td>\n",
       "      <td>confirm your email</td>\n",
       "    </tr>\n",
       "    <tr>\n",
       "      <th>2496</th>\n",
       "      <td>alerts.comcast.net</td>\n",
       "      <td>important: please verify your email address</td>\n",
       "    </tr>\n",
       "    <tr>\n",
       "      <th>2538</th>\n",
       "      <td>alerts.comcast.net</td>\n",
       "      <td>important: please verify your email address</td>\n",
       "    </tr>\n",
       "    <tr>\n",
       "      <th>2607</th>\n",
       "      <td>alerts.comcast.net</td>\n",
       "      <td>important: please verify your email address</td>\n",
       "    </tr>\n",
       "    <tr>\n",
       "      <th>4987</th>\n",
       "      <td>hightail.com</td>\n",
       "      <td>please verify your email change</td>\n",
       "    </tr>\n",
       "    <tr>\n",
       "      <th>...</th>\n",
       "      <td>...</td>\n",
       "      <td>...</td>\n",
       "    </tr>\n",
       "    <tr>\n",
       "      <th>135855</th>\n",
       "      <td>alerts.comcast.net</td>\n",
       "      <td>important: please verify your email address</td>\n",
       "    </tr>\n",
       "    <tr>\n",
       "      <th>137511</th>\n",
       "      <td>equityzen.com</td>\n",
       "      <td>please verify your email address to get started</td>\n",
       "    </tr>\n",
       "    <tr>\n",
       "      <th>137544</th>\n",
       "      <td>equityzen.com</td>\n",
       "      <td>reminder: please verify your email address</td>\n",
       "    </tr>\n",
       "    <tr>\n",
       "      <th>139441</th>\n",
       "      <td>lyftmail.com</td>\n",
       "      <td>confirm your email</td>\n",
       "    </tr>\n",
       "    <tr>\n",
       "      <th>146419</th>\n",
       "      <td>transferwise.com</td>\n",
       "      <td>confirm your email address</td>\n",
       "    </tr>\n",
       "  </tbody>\n",
       "</table>\n",
       "<p>75 rows × 2 columns</p>\n",
       "</div>"
      ]
     },
     "execution_count": 11,
     "metadata": {},
     "output_type": "execute_result"
    }
   ],
   "execution_count": 11
  },
  {
   "metadata": {
    "ExecuteTime": {
     "end_time": "2025-08-01T22:15:55.207443Z",
     "start_time": "2025-08-01T22:15:55.197048Z"
    }
   },
   "cell_type": "code",
   "source": "email_data[email_data['similarity_score'] >= 0.68][['from_email_complete_domain']].value_counts()",
   "id": "e8121d9035fa2e1f",
   "outputs": [
    {
     "data": {
      "text/plain": [
       "from_email_complete_domain\n",
       "lyftmail.com                  9\n",
       "alerts.comcast.net            4\n",
       "hello.soundcloud.com          4\n",
       "microsoft.onmicrosoft.com     3\n",
       "ahs.com                       3\n",
       "equityzen.com                 3\n",
       "service.discover.com          2\n",
       "mail.etsy.com                 2\n",
       "godaddy.com                   2\n",
       "mail15.creditkarma.com        2\n",
       "mail.offeredby.com            2\n",
       "service.lovense.com           2\n",
       "studiolab.sagemaker.aws       2\n",
       "welcome.aexp.com              2\n",
       "service.hbomax.com            1\n",
       "republic.co                   1\n",
       "transferwise.com              1\n",
       "trekbikes.com                 1\n",
       "remarkable.com                1\n",
       "redfin.com                    1\n",
       "notifications.skiff.org       1\n",
       "news.sedo.com                 1\n",
       "trip.com                      1\n",
       "mail7.creditkarma.com         1\n",
       "mail19.creditkarma.com        1\n",
       "mail17.creditkarma.com        1\n",
       "revolut.com                   1\n",
       "above.com                     1\n",
       "mail.instagram.com            1\n",
       "emaildl.att-mail.com          1\n",
       "account.pinterest.com         1\n",
       "affirm.com                    1\n",
       "auction.com                   1\n",
       "better.com                    1\n",
       "budgetair.com                 1\n",
       "clickandboat.com              1\n",
       "coinbase.com                  1\n",
       "exploretock.com               1\n",
       "account.evernote.com          1\n",
       "gmail.com                     1\n",
       "hightail.com                  1\n",
       "indiamart.com                 1\n",
       "info6.citi.com                1\n",
       "instacart.com                 1\n",
       "joinautopilot.com             1\n",
       "login.gov                     1\n",
       "wifi.pro                      1\n",
       "Name: count, dtype: int64"
      ]
     },
     "execution_count": 12,
     "metadata": {},
     "output_type": "execute_result"
    }
   ],
   "execution_count": 12
  },
  {
   "metadata": {},
   "cell_type": "code",
   "source": "",
   "id": "299cb3f2a1c2423d",
   "outputs": [],
   "execution_count": null
  }
 ],
 "metadata": {
  "kernelspec": {
   "display_name": "Python [conda env:base] *",
   "language": "python",
   "name": "conda-base-py"
  },
  "language_info": {
   "codemirror_mode": {
    "name": "ipython",
    "version": 2
   },
   "file_extension": ".py",
   "mimetype": "text/x-python",
   "name": "python",
   "nbconvert_exporter": "python",
   "pygments_lexer": "ipython2",
   "version": "2.7.6"
  }
 },
 "nbformat": 4,
 "nbformat_minor": 5
}
